{
 "cells": [
  {
   "cell_type": "code",
   "execution_count": 1,
   "id": "392256aa-2839-4124-be22-4e3262c133e1",
   "metadata": {
    "tags": []
   },
   "outputs": [],
   "source": [
    "LABELD_DIR = \"C:\\\\Users\\\\karam\\\\PycharmProjects\\\\skillExtraction\\\\labeled_jobpostings\"\n",
    "LABELD_DIR = \"C:\\\\Users\\\\karam\\\\PycharmProjects\\\\GermanJobSkillExtractor\\\\tagedFiles\""
   ]
  },
  {
   "cell_type": "code",
   "execution_count": 2,
   "id": "b52e1bb6-4f77-4f68-b779-539fdbc31e3e",
   "metadata": {
    "tags": []
   },
   "outputs": [
    {
     "data": {
      "text/plain": [
       "('No of docs:', 137)"
      ]
     },
     "execution_count": 2,
     "metadata": {},
     "output_type": "execute_result"
    }
   ],
   "source": [
    "from pathlib import Path\n",
    "\n",
    "DOCS = [\n",
    "    \n",
    "    [\n",
    "        line.strip()\n",
    "        for line in file.read_text(encoding=\"utf8\").split(\"\\n\")\n",
    "        if line\n",
    "    ]\n",
    "    \n",
    "    for file in Path(LABELD_DIR).glob(\"*.txt\")\n",
    "]\n",
    "\n",
    "\"No of docs:\", len(DOCS)"
   ]
  },
  {
   "cell_type": "code",
   "execution_count": null,
   "id": "36c37afb-acf3-4a7e-8c35-e6a0226a4674",
   "metadata": {},
   "outputs": [],
   "source": []
  },
  {
   "cell_type": "code",
   "execution_count": 3,
   "id": "ad2ffbe1-d50b-4804-8a33-b3eafefd7871",
   "metadata": {
    "tags": []
   },
   "outputs": [],
   "source": [
    "#from somajo import SoMaJo\n",
    "\n",
    "#tokenizer = SoMaJo(\"de_CMC\", split_camel_case=False)\n",
    "from transformers import  AutoTokenizer, BertTokenizerFast\n",
    "MODEL_NAME_OR_PATH = \"C:\\\\Users\\\\karam\\\\Documents\\\\Job\\\\models\\\\agnejob__BERT-de\"  # \"agne/jobBERT-de\")\n",
    "MODEL_NAME_OR_PATH = \"agne/jobGBERT\"\n",
    "TOKENIZER = BertTokenizerFast.from_pretrained(MODEL_NAME_OR_PATH)"
   ]
  },
  {
   "cell_type": "code",
   "execution_count": 4,
   "id": "120f3cc7-870a-464d-aee1-fa059c17a285",
   "metadata": {
    "tags": []
   },
   "outputs": [
    {
     "data": {
      "text/plain": [
       "['bei', 'Inter', '##marke', '##t', 'Bank', 'AG']"
      ]
     },
     "execution_count": 4,
     "metadata": {},
     "output_type": "execute_result"
    }
   ],
   "source": [
    "TOKENIZER.tokenize(\"bei Intermarket Bank AG\")"
   ]
  },
  {
   "cell_type": "code",
   "execution_count": 5,
   "id": "b1374f9a-12d9-4da1-86e2-6e61cdb141b2",
   "metadata": {
    "tags": []
   },
   "outputs": [
    {
     "data": {
      "text/plain": [
       "['gjährige Erfahrung im Bereich ',\n",
       " '<<*>>SQL<<*>>',\n",
       " ', ',\n",
       " '<<*>>vorzugsweise Microsoft SQL<<*>>',\n",
       " ' oder als ',\n",
       " '<<*>>Business Analyst<<*>>',\n",
       " ' bzw. ',\n",
       " '<<*>>Business Consultant<<*>>',\n",
       " ' im regulatorischen Umfeld<<*>>']"
      ]
     },
     "execution_count": 5,
     "metadata": {},
     "output_type": "execute_result"
    }
   ],
   "source": [
    "import re\n",
    "sent = \"gjährige Erfahrung im Bereich <<*>>SQL<<*>>, <<*>>vorzugsweise Microsoft SQL<<*>> oder als <<*>>Business Analyst<<*>> bzw. <<*>>Business Consultant<<*>> im regulatorischen Umfeld<<*>>\"\n",
    "list(re.split(r\"((?:<<\\*>>).+?(?:<<\\*>>))\", sent))"
   ]
  },
  {
   "cell_type": "code",
   "execution_count": 6,
   "id": "f22ad066-5783-4394-a722-138fb21553a8",
   "metadata": {
    "tags": []
   },
   "outputs": [],
   "source": [
    "import re\n",
    "import json\n",
    "from itertools import chain, repeat\n",
    "from operator import itemgetter\n",
    "\n",
    "SPLIT_TOK = r\"<<\\*>>\"\n",
    "\n",
    "def tag_sent_tokens(sent: str):\n",
    "    sent_parts = list()\n",
    "    parts = re.split(r\"((?:<<\\*>>).+?(?:<<\\*>>))\", sent, flags=re.IGNORECASE | re.UNICODE)\n",
    "    #for part, pre in zip(parts, chain([None], parts)):\n",
    "    #    print(pre, \">>\", part)\n",
    "    for part in parts:\n",
    "        is_tagged = part.startswith(\"<<*>>\")\n",
    "        part = part.replace(\"<<*>>\", \"\").strip()\n",
    "        tokens = TOKENIZER.tokenize(part)\n",
    "        if is_tagged:\n",
    "            sent_parts.extend(t for t in zip(tokens, chain([\"B\"], repeat(\"I\"))))\n",
    "        else:\n",
    "            sent_parts.extend((t, \"O\") for t in tokens)\n",
    "        \n",
    "    # print(sent_parts)\n",
    "\n",
    "    return sent_parts\n",
    "\n",
    "with open(\"./train_jp.json\", \"wt\", encoding=\"utf8\") as f:\n",
    "    for doc in DOCS:\n",
    "        for sent in doc:\n",
    "            sent_parts = tag_sent_tokens(sent)\n",
    "            if len(sent_parts) < 2: continue\n",
    "            tokens = map(itemgetter(0), sent_parts)\n",
    "            tags = map(itemgetter(1), sent_parts)\n",
    "            json.dump(dict(tokens=list(tokens), tags=list(tags)), f, ensure_ascii=False, sort_keys=False)\n",
    "            f.write(\"\\n\")\n",
    "\n"
   ]
  },
  {
   "cell_type": "code",
   "execution_count": null,
   "id": "111d0e94",
   "metadata": {},
   "outputs": [],
   "source": []
  }
 ],
 "metadata": {
  "kernelspec": {
   "display_name": "Python 3 (ipykernel)",
   "language": "python",
   "name": "python3"
  },
  "language_info": {
   "codemirror_mode": {
    "name": "ipython",
    "version": 3
   },
   "file_extension": ".py",
   "mimetype": "text/x-python",
   "name": "python",
   "nbconvert_exporter": "python",
   "pygments_lexer": "ipython3",
   "version": "3.10.12"
  }
 },
 "nbformat": 4,
 "nbformat_minor": 5
}
