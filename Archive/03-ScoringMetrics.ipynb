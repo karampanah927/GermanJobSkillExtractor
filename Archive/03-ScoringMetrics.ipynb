{
 "cells": [
  {
   "cell_type": "markdown",
   "metadata": {},
   "source": [
    "### Loading Bert fine-tuned Model"
   ]
  },
  {
   "cell_type": "code",
   "execution_count": 15,
   "metadata": {},
   "outputs": [
    {
     "name": "stderr",
     "output_type": "stream",
     "text": [
      "Some weights of the model checkpoint at C:\\Users\\karam\\PycharmProjects\\GermanJobSkillExtractor\\out_new3 were not used when initializing BertModel: ['classifier.weight', 'classifier.bias']\n",
      "- This IS expected if you are initializing BertModel from the checkpoint of a model trained on another task or with another architecture (e.g. initializing a BertForSequenceClassification model from a BertForPreTraining model).\n",
      "- This IS NOT expected if you are initializing BertModel from the checkpoint of a model that you expect to be exactly identical (initializing a BertForSequenceClassification model from a BertForSequenceClassification model).\n",
      "Some weights of BertModel were not initialized from the model checkpoint at C:\\Users\\karam\\PycharmProjects\\GermanJobSkillExtractor\\out_new3 and are newly initialized: ['bert.pooler.dense.bias', 'bert.pooler.dense.weight']\n",
      "You should probably TRAIN this model on a down-stream task to be able to use it for predictions and inference.\n"
     ]
    }
   ],
   "source": [
    "from pathlib import Path\n",
    "import os\n",
    "import torch\n",
    "from transformers import pipeline, BertTokenizerFast, BertForTokenClassification, BertModel\n",
    "\n",
    "os.environ[\"TOKENIZERS_PARALLELISM\"] = \"true\"\n",
    "\n",
    "DEVICE = \"cuda\" if torch.cuda.is_available() else \"cpu\"\n",
    "MODEL_PATH = str(Path(\"./out_new3\").absolute())\n",
    "TOKENIZER = BertTokenizerFast.from_pretrained(MODEL_PATH)\n",
    "MODEL = BertForTokenClassification.from_pretrained(MODEL_PATH)\n",
    "MODEL.eval()\n",
    "MODEL_BERT = BertModel.from_pretrained(MODEL_PATH, output_hidden_states = True)\n",
    "MODEL_BERT.eval()\n",
    "pipe = pipeline(\"token-classification\", model=MODEL, tokenizer=TOKENIZER)\n",
    "\n",
    "LABELS_MAP = dict(LABEL_0='B', LABEL_1='I', LABEL_2='O')"
   ]
  },
  {
   "cell_type": "markdown",
   "metadata": {},
   "source": [
    "### Calc ESCO embeddings"
   ]
  },
  {
   "cell_type": "code",
   "execution_count": 16,
   "metadata": {},
   "outputs": [],
   "source": [
    "def get_embedding(text: str):\n",
    "    encoded = TOKENIZER.encode_plus(\n",
    "                text,\n",
    "                return_tensors=\"pt\",\n",
    "                truncation=True,\n",
    "                ).to(DEVICE)\n",
    "    with torch.no_grad():\n",
    "        output = MODEL_BERT(**encoded)\n",
    "        return torch.mean(output.last_hidden_state.squeeze(), dim=0).numpy()"
   ]
  },
  {
   "cell_type": "code",
   "execution_count": 17,
   "metadata": {},
   "outputs": [],
   "source": [
    "import joblib\n",
    "from tqdm import tqdm\n",
    "import numpy as np\n",
    "\n",
    "JOBS_EMB_FILE = Path(\"SKILLS_DE_EMD.joblib\")\n",
    "\n",
    "if JOBS_EMB_FILE.exists():\n",
    "    JOBS_EMB = joblib.load(JOBS_EMB_FILE)\n",
    "else:\n",
    "    JOBS_EMB = dict()\n",
    "    with open(\"skills_de.txt\", \"rt\", encoding=\"utf8\") as f:\n",
    "        for line in tqdm(list(f)[:100]):\n",
    "            span = line.split(\"\\t\")[0]\n",
    "            emb = get_embedding(span) \n",
    "            JOBS_EMB[span] = emb\n",
    "    joblib.dump(JOBS_EMB, JOBS_EMB_FILE, compress=5)\n",
    "\n",
    "ESCO_JOB_SPANS = list(JOBS_EMB.keys())\n",
    "ESCO_JOB_SPANS_EMB = np.array(list(JOBS_EMB.values()))"
   ]
  },
  {
   "cell_type": "markdown",
   "metadata": {},
   "source": [
    "### Load Files to label"
   ]
  },
  {
   "cell_type": "code",
   "execution_count": 20,
   "metadata": {},
   "outputs": [],
   "source": [
    "SEEN_CACHE = dict()\n",
    "\n",
    "def get_models_span_embedding(text: str):\n",
    "    key = text.lower()\n",
    "    if key in SEEN_CACHE:\n",
    "        return SEEN_CACHE[key]\n",
    "    emb = get_embedding(text)\n",
    "    SEEN_CACHE[key] = emb\n",
    "    return emb"
   ]
  },
  {
   "cell_type": "code",
   "execution_count": 21,
   "metadata": {},
   "outputs": [
    {
     "name": "stderr",
     "output_type": "stream",
     "text": [
      "0it [00:00, ?it/s]\n"
     ]
    }
   ],
   "source": [
    "from itertools import groupby\n",
    "import re\n",
    "from operator import itemgetter, attrgetter\n",
    "from sklearn.metrics.pairwise import cosine_similarity\n",
    "\n",
    "# Map label 0 and 1 to same label for grouping \n",
    "LABELS_MAP = dict(LABEL_0='J', LABEL_1='J', LABEL_2='O')\n",
    "ESCO_LABEL_SIM_THR = .8\n",
    "\n",
    "DOCS_SPANS = []\n",
    "\n",
    "files = Path(\"./tagedFiles\").glob(\"*.txt\")\n",
    "for file in tqdm(list(files)):\n",
    "    spans = []\n",
    "    lines = file.read_text().split(\"\\n\")\n",
    "    # remove labels\n",
    "    lines = [l.replace(\"<<*>>\", \"\") for l in lines]\n",
    "    for line in tqdm(lines, leave=False):\n",
    "        line = re.sub(r\"\\s+\", line, \" \", flags=re.DOTALL | re.IGNORECASE | re.MULTILINE)\n",
    "        # check exact match of esco\n",
    "        for esco_span in ESCO_JOB_SPANS:\n",
    "            if esco_span in line:\n",
    "                spans.append(esco_span)\n",
    "        \n",
    "        # use model to find job spans\n",
    "        labels = ({**la, \"entity\":LABELS_MAP[la[\"entity\"]]} for la in pipe(line))\n",
    "        for l, tokens in groupby(labels, key=itemgetter(\"entity\")):\n",
    "            if l == \"O\": continue\n",
    "            tokens = list(tokens)\n",
    "            start = tokens[0][\"start\"]\n",
    "            end = tokens[-1][\"end\"]\n",
    "\n",
    "            span = line[start:end]\n",
    "\n",
    "            emb = get_models_span_embedding(span)\n",
    "            sims = cosine_similarity([emb], ESCO_JOB_SPANS_EMB).squeeze()\n",
    "            max_idx = np.argmax(sims)\n",
    "            \n",
    "            if sims[max_idx] >= ESCO_LABEL_SIM_THR:\n",
    "                # print(\"esco replace:\", span, \" ==> \", ESCO_JOB_SPANS[max_idx])\n",
    "                normed_span = ESCO_JOB_SPANS[max_idx]\n",
    "                spans.append(normed_span)\n",
    "        \n",
    "    DOCS_SPANS.append(spans)\n"
   ]
  },
  {
   "cell_type": "markdown",
   "metadata": {},
   "source": [
    "#### Select subset of ESCO"
   ]
  },
  {
   "cell_type": "code",
   "execution_count": 22,
   "metadata": {},
   "outputs": [
    {
     "data": {
      "text/plain": [
       "13891"
      ]
     },
     "execution_count": 22,
     "metadata": {},
     "output_type": "execute_result"
    }
   ],
   "source": [
    "from itertools import chain\n",
    "\n",
    "SELECTED_ESCO_SPANS = set(chain.from_iterable(DOCS_SPANS))\n",
    "\n",
    "with open(\"./esco_skills_de.txt\", \"rt\") as f:\n",
    "    SELECTED_ESCO_SPANS = SELECTED_ESCO_SPANS | set(l.strip() for l in f.readlines())\n",
    "    \n",
    "SELECTED_ESCO_SPANS = list(SELECTED_ESCO_SPANS)\n",
    "len(SELECTED_ESCO_SPANS)"
   ]
  },
  {
   "cell_type": "markdown",
   "metadata": {},
   "source": [
    "### Step 2"
   ]
  },
  {
   "cell_type": "code",
   "execution_count": 23,
   "metadata": {},
   "outputs": [],
   "source": [
    "from collections import defaultdict\n",
    "\n",
    "SPANS_DOCS_COUNT = defaultdict(int)\n",
    "for doc in DOCS_SPANS:\n",
    "    for span in set(doc):\n",
    "        SPANS_DOCS_COUNT[span] += 1"
   ]
  },
  {
   "cell_type": "code",
   "execution_count": 24,
   "metadata": {},
   "outputs": [
    {
     "name": "stderr",
     "output_type": "stream",
     "text": [
      "C:\\Users\\karam\\AppData\\Local\\Temp\\ipykernel_22152\\519719356.py:6: DeprecationWarning: Conversion of an array with ndim > 0 to a scalar is deprecated, and will error in future. Ensure you extract a single element from your array before performing this operation. (Deprecated NumPy 1.25.)\n",
      "  t1 = SELECTED_ESCO_SPANS[int(t1_idx)]\n",
      "C:\\Users\\karam\\AppData\\Local\\Temp\\ipykernel_22152\\519719356.py:7: DeprecationWarning: Conversion of an array with ndim > 0 to a scalar is deprecated, and will error in future. Ensure you extract a single element from your array before performing this operation. (Deprecated NumPy 1.25.)\n",
      "  t2 = SELECTED_ESCO_SPANS[int(t2_idx)]\n",
      "C:\\Users\\karam\\AppData\\Local\\Temp\\ipykernel_22152\\519719356.py:7: DeprecationWarning: Conversion of an array with ndim > 0 to a scalar is deprecated, and will error in future. Ensure you extract a single element from your array before performing this operation. (Deprecated NumPy 1.25.)\n",
      "  t2 = SELECTED_ESCO_SPANS[int(t2_idx)]\n",
      "C:\\Users\\karam\\AppData\\Local\\Temp\\ipykernel_22152\\519719356.py:6: DeprecationWarning: Conversion of an array with ndim > 0 to a scalar is deprecated, and will error in future. Ensure you extract a single element from your array before performing this operation. (Deprecated NumPy 1.25.)\n",
      "  t1 = SELECTED_ESCO_SPANS[int(t1_idx)]\n",
      "C:\\Users\\karam\\AppData\\Local\\Temp\\ipykernel_22152\\519719356.py:6: DeprecationWarning: Conversion of an array with ndim > 0 to a scalar is deprecated, and will error in future. Ensure you extract a single element from your array before performing this operation. (Deprecated NumPy 1.25.)\n",
      "  t1 = SELECTED_ESCO_SPANS[int(t1_idx)]\n",
      "C:\\Users\\karam\\AppData\\Local\\Temp\\ipykernel_22152\\519719356.py:7: DeprecationWarning: Conversion of an array with ndim > 0 to a scalar is deprecated, and will error in future. Ensure you extract a single element from your array before performing this operation. (Deprecated NumPy 1.25.)\n",
      "  t2 = SELECTED_ESCO_SPANS[int(t2_idx)]\n",
      "C:\\Users\\karam\\AppData\\Local\\Temp\\ipykernel_22152\\519719356.py:6: DeprecationWarning: Conversion of an array with ndim > 0 to a scalar is deprecated, and will error in future. Ensure you extract a single element from your array before performing this operation. (Deprecated NumPy 1.25.)\n",
      "  t1 = SELECTED_ESCO_SPANS[int(t1_idx)]\n",
      "C:\\Users\\karam\\AppData\\Local\\Temp\\ipykernel_22152\\519719356.py:7: DeprecationWarning: Conversion of an array with ndim > 0 to a scalar is deprecated, and will error in future. Ensure you extract a single element from your array before performing this operation. (Deprecated NumPy 1.25.)\n",
      "  t2 = SELECTED_ESCO_SPANS[int(t2_idx)]\n",
      "C:\\Users\\karam\\AppData\\Local\\Temp\\ipykernel_22152\\519719356.py:6: DeprecationWarning: Conversion of an array with ndim > 0 to a scalar is deprecated, and will error in future. Ensure you extract a single element from your array before performing this operation. (Deprecated NumPy 1.25.)\n",
      "  t1 = SELECTED_ESCO_SPANS[int(t1_idx)]\n",
      "C:\\Users\\karam\\AppData\\Local\\Temp\\ipykernel_22152\\519719356.py:7: DeprecationWarning: Conversion of an array with ndim > 0 to a scalar is deprecated, and will error in future. Ensure you extract a single element from your array before performing this operation. (Deprecated NumPy 1.25.)\n",
      "  t2 = SELECTED_ESCO_SPANS[int(t2_idx)]\n",
      "C:\\Users\\karam\\AppData\\Local\\Temp\\ipykernel_22152\\519719356.py:6: DeprecationWarning: Conversion of an array with ndim > 0 to a scalar is deprecated, and will error in future. Ensure you extract a single element from your array before performing this operation. (Deprecated NumPy 1.25.)\n",
      "  t1 = SELECTED_ESCO_SPANS[int(t1_idx)]\n",
      "C:\\Users\\karam\\AppData\\Local\\Temp\\ipykernel_22152\\519719356.py:7: DeprecationWarning: Conversion of an array with ndim > 0 to a scalar is deprecated, and will error in future. Ensure you extract a single element from your array before performing this operation. (Deprecated NumPy 1.25.)\n",
      "  t2 = SELECTED_ESCO_SPANS[int(t2_idx)]\n",
      "C:\\Users\\karam\\AppData\\Local\\Temp\\ipykernel_22152\\519719356.py:6: DeprecationWarning: Conversion of an array with ndim > 0 to a scalar is deprecated, and will error in future. Ensure you extract a single element from your array before performing this operation. (Deprecated NumPy 1.25.)\n",
      "  t1 = SELECTED_ESCO_SPANS[int(t1_idx)]\n",
      "C:\\Users\\karam\\AppData\\Local\\Temp\\ipykernel_22152\\519719356.py:7: DeprecationWarning: Conversion of an array with ndim > 0 to a scalar is deprecated, and will error in future. Ensure you extract a single element from your array before performing this operation. (Deprecated NumPy 1.25.)\n",
      "  t2 = SELECTED_ESCO_SPANS[int(t2_idx)]\n",
      "C:\\Users\\karam\\AppData\\Local\\Temp\\ipykernel_22152\\519719356.py:6: DeprecationWarning: Conversion of an array with ndim > 0 to a scalar is deprecated, and will error in future. Ensure you extract a single element from your array before performing this operation. (Deprecated NumPy 1.25.)\n",
      "  t1 = SELECTED_ESCO_SPANS[int(t1_idx)]\n",
      "C:\\Users\\karam\\AppData\\Local\\Temp\\ipykernel_22152\\519719356.py:7: DeprecationWarning: Conversion of an array with ndim > 0 to a scalar is deprecated, and will error in future. Ensure you extract a single element from your array before performing this operation. (Deprecated NumPy 1.25.)\n",
      "  t2 = SELECTED_ESCO_SPANS[int(t2_idx)]\n",
      "C:\\Users\\karam\\AppData\\Local\\Temp\\ipykernel_22152\\519719356.py:6: DeprecationWarning: Conversion of an array with ndim > 0 to a scalar is deprecated, and will error in future. Ensure you extract a single element from your array before performing this operation. (Deprecated NumPy 1.25.)\n",
      "  t1 = SELECTED_ESCO_SPANS[int(t1_idx)]\n",
      "C:\\Users\\karam\\AppData\\Local\\Temp\\ipykernel_22152\\519719356.py:7: DeprecationWarning: Conversion of an array with ndim > 0 to a scalar is deprecated, and will error in future. Ensure you extract a single element from your array before performing this operation. (Deprecated NumPy 1.25.)\n",
      "  t2 = SELECTED_ESCO_SPANS[int(t2_idx)]\n",
      "C:\\Users\\karam\\AppData\\Local\\Temp\\ipykernel_22152\\519719356.py:6: DeprecationWarning: Conversion of an array with ndim > 0 to a scalar is deprecated, and will error in future. Ensure you extract a single element from your array before performing this operation. (Deprecated NumPy 1.25.)\n",
      "  t1 = SELECTED_ESCO_SPANS[int(t1_idx)]\n",
      "C:\\Users\\karam\\AppData\\Local\\Temp\\ipykernel_22152\\519719356.py:7: DeprecationWarning: Conversion of an array with ndim > 0 to a scalar is deprecated, and will error in future. Ensure you extract a single element from your array before performing this operation. (Deprecated NumPy 1.25.)\n",
      "  t2 = SELECTED_ESCO_SPANS[int(t2_idx)]\n",
      "C:\\Users\\karam\\AppData\\Local\\Temp\\ipykernel_22152\\519719356.py:6: DeprecationWarning: Conversion of an array with ndim > 0 to a scalar is deprecated, and will error in future. Ensure you extract a single element from your array before performing this operation. (Deprecated NumPy 1.25.)\n",
      "  t1 = SELECTED_ESCO_SPANS[int(t1_idx)]\n",
      "C:\\Users\\karam\\AppData\\Local\\Temp\\ipykernel_22152\\519719356.py:7: DeprecationWarning: Conversion of an array with ndim > 0 to a scalar is deprecated, and will error in future. Ensure you extract a single element from your array before performing this operation. (Deprecated NumPy 1.25.)\n",
      "  t2 = SELECTED_ESCO_SPANS[int(t2_idx)]\n",
      "C:\\Users\\karam\\AppData\\Local\\Temp\\ipykernel_22152\\519719356.py:7: DeprecationWarning: Conversion of an array with ndim > 0 to a scalar is deprecated, and will error in future. Ensure you extract a single element from your array before performing this operation. (Deprecated NumPy 1.25.)\n",
      "  t2 = SELECTED_ESCO_SPANS[int(t2_idx)]\n",
      "C:\\Users\\karam\\AppData\\Local\\Temp\\ipykernel_22152\\519719356.py:6: DeprecationWarning: Conversion of an array with ndim > 0 to a scalar is deprecated, and will error in future. Ensure you extract a single element from your array before performing this operation. (Deprecated NumPy 1.25.)\n",
      "  t1 = SELECTED_ESCO_SPANS[int(t1_idx)]\n",
      "C:\\Users\\karam\\AppData\\Local\\Temp\\ipykernel_22152\\519719356.py:7: DeprecationWarning: Conversion of an array with ndim > 0 to a scalar is deprecated, and will error in future. Ensure you extract a single element from your array before performing this operation. (Deprecated NumPy 1.25.)\n",
      "  t2 = SELECTED_ESCO_SPANS[int(t2_idx)]\n",
      "C:\\Users\\karam\\AppData\\Local\\Temp\\ipykernel_22152\\519719356.py:6: DeprecationWarning: Conversion of an array with ndim > 0 to a scalar is deprecated, and will error in future. Ensure you extract a single element from your array before performing this operation. (Deprecated NumPy 1.25.)\n",
      "  t1 = SELECTED_ESCO_SPANS[int(t1_idx)]\n",
      "C:\\Users\\karam\\AppData\\Local\\Temp\\ipykernel_22152\\519719356.py:7: DeprecationWarning: Conversion of an array with ndim > 0 to a scalar is deprecated, and will error in future. Ensure you extract a single element from your array before performing this operation. (Deprecated NumPy 1.25.)\n",
      "  t2 = SELECTED_ESCO_SPANS[int(t2_idx)]\n",
      "C:\\Users\\karam\\AppData\\Local\\Temp\\ipykernel_22152\\519719356.py:6: DeprecationWarning: Conversion of an array with ndim > 0 to a scalar is deprecated, and will error in future. Ensure you extract a single element from your array before performing this operation. (Deprecated NumPy 1.25.)\n",
      "  t1 = SELECTED_ESCO_SPANS[int(t1_idx)]\n",
      "C:\\Users\\karam\\AppData\\Local\\Temp\\ipykernel_22152\\519719356.py:6: DeprecationWarning: Conversion of an array with ndim > 0 to a scalar is deprecated, and will error in future. Ensure you extract a single element from your array before performing this operation. (Deprecated NumPy 1.25.)\n",
      "  t1 = SELECTED_ESCO_SPANS[int(t1_idx)]\n",
      "C:\\Users\\karam\\AppData\\Local\\Temp\\ipykernel_22152\\519719356.py:7: DeprecationWarning: Conversion of an array with ndim > 0 to a scalar is deprecated, and will error in future. Ensure you extract a single element from your array before performing this operation. (Deprecated NumPy 1.25.)\n",
      "  t2 = SELECTED_ESCO_SPANS[int(t2_idx)]\n",
      "C:\\Users\\karam\\AppData\\Local\\Temp\\ipykernel_22152\\519719356.py:6: DeprecationWarning: Conversion of an array with ndim > 0 to a scalar is deprecated, and will error in future. Ensure you extract a single element from your array before performing this operation. (Deprecated NumPy 1.25.)\n",
      "  t1 = SELECTED_ESCO_SPANS[int(t1_idx)]\n",
      "C:\\Users\\karam\\AppData\\Local\\Temp\\ipykernel_22152\\519719356.py:7: DeprecationWarning: Conversion of an array with ndim > 0 to a scalar is deprecated, and will error in future. Ensure you extract a single element from your array before performing this operation. (Deprecated NumPy 1.25.)\n",
      "  t2 = SELECTED_ESCO_SPANS[int(t2_idx)]\n",
      "\n",
      "KeyboardInterrupt\n",
      "\n"
     ]
    }
   ],
   "source": [
    "from sklearn.metrics import pairwise_distances\n",
    "\n",
    "EPS = np.finfo(np.float64).eps\n",
    "\n",
    "def calc_cbm_score(t1_idx, t2_idx) -> float:\n",
    "    t1 = SELECTED_ESCO_SPANS[int(t1_idx)]\n",
    "    t2 = SELECTED_ESCO_SPANS[int(t2_idx)]\n",
    "\n",
    "    t1_count = SPANS_DOCS_COUNT[t1]\n",
    "    t2_count = SPANS_DOCS_COUNT[t2]\n",
    "    t1t2_count = 0\n",
    "    for doc in DOCS_SPANS:\n",
    "        if t1 in doc and t2 in doc:\n",
    "            t1t2_count += 1\n",
    "    \n",
    "    if t1_count == 0 or t2_count == 0:\n",
    "        return 0.\n",
    "    elif t1_count == t2_count and t1_count == t1t2_count:\n",
    "        return 1.\n",
    "    else:\n",
    "        # print(t1_count, t2_count, t1t2_count, np.log10(t1_count + 1), np.log10(t2_count + 1), np.power(np.log10(t1t2_count) + EPS, 2))\n",
    "        # np.power(np.log10(t1t2_count), 2)\n",
    "        return np.power(np.log10(t1t2_count + 1), 2)/(np.log10(t1_count + 1.) * np.log10(t2_count + 1.))\n",
    "\n",
    "CBM_SCORES = pairwise_distances(np.arange(len(SELECTED_ESCO_SPANS)).reshape((-1, 1)), metric=calc_cbm_score, n_jobs=-1)\n",
    "CBM_SCORES\n",
    "# calc_cbm_score(0, 1)"
   ]
  },
  {
   "cell_type": "code",
   "execution_count": 26,
   "metadata": {},
   "outputs": [
    {
     "name": "stderr",
     "output_type": "stream",
     "text": [
      "C:\\Users\\karam\\AppData\\Local\\Temp\\ipykernel_22152\\519719356.py:7: DeprecationWarning: Conversion of an array with ndim > 0 to a scalar is deprecated, and will error in future. Ensure you extract a single element from your array before performing this operation. (Deprecated NumPy 1.25.)\n",
      "  t2 = SELECTED_ESCO_SPANS[int(t2_idx)]\n",
      "C:\\Users\\karam\\AppData\\Local\\Temp\\ipykernel_22152\\519719356.py:6: DeprecationWarning: Conversion of an array with ndim > 0 to a scalar is deprecated, and will error in future. Ensure you extract a single element from your array before performing this operation. (Deprecated NumPy 1.25.)\n",
      "  t1 = SELECTED_ESCO_SPANS[int(t1_idx)]\n",
      "0it [00:00, ?it/s]\n"
     ]
    }
   ],
   "source": [
    "from sklearn.metrics import pairwise_distances\n",
    "import numpy as np\n",
    "from tqdm import tqdm\n",
    "import os\n",
    "\n",
    "EPS = np.finfo(np.float64).eps\n",
    "\n",
    "def calc_cbm_score(t1_idx, t2_idx) -> float:\n",
    "    t1 = SELECTED_ESCO_SPANS[int(t1_idx)]\n",
    "    t2 = SELECTED_ESCO_SPANS[int(t2_idx)]\n",
    "\n",
    "    t1_count = SPANS_DOCS_COUNT[t1]\n",
    "    t2_count = SPANS_DOCS_COUNT[t2]\n",
    "    t1t2_count = 0\n",
    "    for doc in DOCS_SPANS:\n",
    "        if t1 in doc and t2 in doc:\n",
    "            t1t2_count += 1\n",
    "    \n",
    "    if t1_count == 0 or t2_count == 0:\n",
    "        return 0.\n",
    "    elif t1_count == t2_count and t1_count == t1t2_count:\n",
    "        return 1.\n",
    "    else:\n",
    "        return np.power(np.log10(t1t2_count + 1), 2) / (np.log10(t1_count + 1.) * np.log10(t2_count + 1.))\n",
    "\n",
    "# Define chunk size\n",
    "CHUNK_SIZE = 100\n",
    "N = len(SELECTED_ESCO_SPANS)\n",
    "NUM_CHUNKS = (N + CHUNK_SIZE - 1) // CHUNK_SIZE\n",
    "\n",
    "# Counter to keep track of progress\n",
    "counter = 0\n",
    "\n",
    "# Check if counter exists and load it\n",
    "if os.path.exists('counter.npy'):\n",
    "    counter = np.load('counter.npy')\n",
    "\n",
    "# Compute in chunks\n",
    "for idx in tqdm(range(counter, NUM_CHUNKS)):\n",
    "    start_col = idx * CHUNK_SIZE\n",
    "    end_col = min(start_col + CHUNK_SIZE, N)\n",
    "    \n",
    "    CBM_SCORES_chunk = pairwise_distances(\n",
    "        np.arange(N).reshape((-1, 1)),\n",
    "        np.arange(start_col, end_col).reshape((-1, 1)),\n",
    "        metric=calc_cbm_score,\n",
    "        n_jobs=32\n",
    "    )\n",
    "    \n",
    "    # Save the chunk\n",
    "    np.save(f'CBM_SCORES_chunk_{idx}.npy', CBM_SCORES_chunk)\n",
    "    \n",
    "    # Update the counter\n",
    "    counter = idx + 1\n",
    "    np.save('counter.npy', counter)\n",
    "\n",
    "# Concatenate all the chunks to form the full matrix\n",
    "CBM_SCORES = np.concatenate([np.load(f'CBM_SCORES_chunk_{i}.npy') for i in range(NUM_CHUNKS)], axis=1)\n"
   ]
  },
  {
   "cell_type": "code",
   "execution_count": 243,
   "metadata": {},
   "outputs": [],
   "source": [
    "from sklearn.metrics.pairwise import cosine_similarity\n",
    "\n",
    "COS_SIMS = cosine_similarity(list(get_embedding(span) for span in SELECTED_ESCO_SPANS))"
   ]
  },
  {
   "cell_type": "code",
   "execution_count": null,
   "metadata": {},
   "outputs": [],
   "source": [
    "from sklearn.metrics.pairwise import cosine_similarity\n",
    "import numpy as np\n",
    "from tqdm import tqdm\n",
    "import os\n",
    "\n",
    "# Function to get the embedding of a span\n",
    "# You should already have this function defined in your code\n",
    "# def get_embedding(span):\n",
    "#     ...\n",
    "\n",
    "CHUNK_SIZE = 100\n",
    "N = len(SELECTED_ESCO_SPANS)\n",
    "NUM_CHUNKS = (N + CHUNK_SIZE - 1) // CHUNK_SIZE\n",
    "\n",
    "# Counter to keep track of progress\n",
    "counter = 0\n",
    "\n",
    "# Check if counter exists and load it\n",
    "if os.path.exists('counter.npy'):\n",
    "    counter = np.load('counter.npy')\n",
    "\n",
    "# Precompute all embeddings\n",
    "all_embeddings = [get_embedding(span) for span in SELECTED_ESCO_SPANS]\n",
    "\n",
    "# Compute in chunks\n",
    "for idx in tqdm(range(counter, NUM_CHUNKS)):\n",
    "    start_col = idx * CHUNK_SIZE\n",
    "    end_col = min(start_col + CHUNK_SIZE, N)\n",
    "    \n",
    "    COS_SIMS_chunk = cosine_similarity(all_embeddings, all_embeddings[start_col:end_col])\n",
    "    \n",
    "    # Save the chunk\n",
    "    np.save(f'COS_SIMS_chunk_{idx}.npy', COS_SIMS_chunk)\n",
    "    \n",
    "    # Update the counter\n",
    "    counter = idx + 1\n",
    "    np.save('counter.npy', counter)\n",
    "\n",
    "# Concatenate all the chunks to form the full matrix\n",
    "COS_SIMS = np.concatenate([np.load(f'COS_SIMS_chunk_{i}.npy') for i in range(NUM_CHUNKS)], axis=1)\n"
   ]
  },
  {
   "cell_type": "code",
   "execution_count": 31,
   "metadata": {},
   "outputs": [
    {
     "ename": "ValueError",
     "evalue": "operands could not be broadcast together with shapes (13999,13999) (13891,13891) ",
     "output_type": "error",
     "traceback": [
      "\u001b[1;31m---------------------------------------------------------------------------\u001b[0m",
      "\u001b[1;31mValueError\u001b[0m                                Traceback (most recent call last)",
      "Cell \u001b[1;32mIn[31], line 3\u001b[0m\n\u001b[0;32m      1\u001b[0m \u001b[38;5;66;03m# CBM_SCORES = np.load('.\\CBM_Score.npy')\u001b[39;00m\n\u001b[0;32m      2\u001b[0m \u001b[38;5;66;03m# COS_SIMS = np.load('.\\CosineSimilarityMatrix.npy')\u001b[39;00m\n\u001b[1;32m----> 3\u001b[0m \u001b[43mCBM_SCORES\u001b[49m\u001b[38;5;241;43m+\u001b[39;49m\u001b[43mCOS_SIMS\u001b[49m\n",
      "\u001b[1;31mValueError\u001b[0m: operands could not be broadcast together with shapes (13999,13999) (13891,13891) "
     ]
    }
   ],
   "source": [
    "CBM_SCORES = np.load('.\\CBM_Score.npy')\n",
    "COS_SIMS = np.load('.\\CosineSimilarityMatrix.npy')\n"
   ]
  },
  {
   "cell_type": "code",
   "execution_count": 34,
   "metadata": {},
   "outputs": [
    {
     "name": "stdout",
     "output_type": "stream",
     "text": [
      "CBM (13999, 13999)\n",
      "Cos_sim (13891, 13891)\n"
     ]
    }
   ],
   "source": [
    "print('CBM',CBM_SCORES.shape)\n",
    "print('Cos_sim',COS_SIMS.shape)\n",
    "\n",
    "a = 0.4\n",
    "# COMPARE_SCORE = a*CBM_SCORES + (1-a)COS_SIMS\n",
    "# CBM_SCORES+COS_SIMS"
   ]
  },
  {
   "cell_type": "code",
   "execution_count": null,
   "metadata": {},
   "outputs": [],
   "source": [
    "import pickle, gzip\n",
    "\n",
    "with gzip.open(\"searchModel.pickle.gz\", \"wb\", compresslevel=5) as zf:\n",
    "    pickle.dump({\n",
    "        \"scores\": COMPARE_SCORE,\n",
    "        \"spans\": SELECTED_ESCO_SPANS\n",
    "    }, zf)"
   ]
  },
  {
   "cell_type": "markdown",
   "metadata": {},
   "source": [
    "### Step 4"
   ]
  },
  {
   "cell_type": "code",
   "execution_count": 132,
   "metadata": {},
   "outputs": [],
   "source": [
    "input_text = \"Monitoring\""
   ]
  },
  {
   "cell_type": "code",
   "execution_count": 244,
   "metadata": {},
   "outputs": [
    {
     "data": {
      "text/plain": [
       "('colour grading',\n",
       " [(32, 0.5),\n",
       "  (11, 0.4),\n",
       "  (33, 0.3783783783783784),\n",
       "  (8, 0.36363636363636365),\n",
       "  (5, 0.33333333333333337)])"
      ]
     },
     "execution_count": 244,
     "metadata": {},
     "output_type": "execute_result"
    }
   ],
   "source": [
    "import Levenshtein\n",
    "\n",
    "MIN_LEVEN_SIM_SCORE = .1\n",
    "\n",
    "if input_text in SELECTED_ESCO_SPANS:\n",
    "    # Exact match:\n",
    "    pass\n",
    "else:\n",
    "    most_similar_esco_spans = [\n",
    "        (idx, Levenshtein.ratio(input_text, span, processor=lambda t: t.lower(), score_cutoff=MIN_LEVEN_SIM_SCORE))\n",
    "        for idx, span in enumerate(SELECTED_ESCO_SPANS)\n",
    "    ]\n",
    "    most_similar_esco_spans = filter(lambda p: p[1] > 0.0, most_similar_esco_spans)\n",
    "    most_similar_esco_spans = list(sorted(most_similar_esco_spans, key=itemgetter(1), reverse=True))[:5]\n",
    "\n",
    "\n",
    "selected_span_near_to_input = SELECTED_ESCO_SPANS[most_similar_esco_spans[0][0]]\n",
    "selected_span_near_to_input, most_similar_esco_spans"
   ]
  },
  {
   "cell_type": "code",
   "execution_count": 261,
   "metadata": {},
   "outputs": [
    {
     "name": "stdout",
     "output_type": "stream",
     "text": [
      "colour grading  ==>  add colour\n",
      "colour ranges of roasting  ==>  colours of roasted malt\n",
      "collect tourist information  ==>  combination of flavours\n",
      "colour glass  ==>  add colour\n",
      "collect visitor fees  ==>  collect rental fees\n"
     ]
    }
   ],
   "source": [
    "COMPARE_SCORE = CBM_SCORES + COS_SIMS\n",
    "\n",
    "for idx, _ in most_similar_esco_spans:\n",
    "    sims = COMPARE_SCORE[idx]\n",
    "    most_similar = np.argsort(sims)[-2]\n",
    "    print(SELECTED_ESCO_SPANS[idx], \" ==> \", SELECTED_ESCO_SPANS[most_similar])\n",
    "    "
   ]
  },
  {
   "cell_type": "markdown",
   "metadata": {},
   "source": []
  },
  {
   "cell_type": "code",
   "execution_count": null,
   "metadata": {},
   "outputs": [],
   "source": []
  }
 ],
 "metadata": {
  "kernelspec": {
   "display_name": "Python 3 (ipykernel)",
   "language": "python",
   "name": "python3"
  },
  "language_info": {
   "codemirror_mode": {
    "name": "ipython",
    "version": 3
   },
   "file_extension": ".py",
   "mimetype": "text/x-python",
   "name": "python",
   "nbconvert_exporter": "python",
   "pygments_lexer": "ipython3",
   "version": "3.11.4"
  }
 },
 "nbformat": 4,
 "nbformat_minor": 4
}
