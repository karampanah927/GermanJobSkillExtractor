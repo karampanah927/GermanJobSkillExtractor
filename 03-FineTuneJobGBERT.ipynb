{
 "cells": [
  {
   "cell_type": "code",
   "execution_count": 1,
   "metadata": {},
   "outputs": [
    {
     "name": "stderr",
     "output_type": "stream",
     "text": [
      "C:\\Users\\karam\\mambaforge\\envs\\job\\Lib\\site-packages\\tqdm\\auto.py:21: TqdmWarning: IProgress not found. Please update jupyter and ipywidgets. See https://ipywidgets.readthedocs.io/en/stable/user_install.html\n",
      "  from .autonotebook import tqdm as notebook_tqdm\n"
     ]
    }
   ],
   "source": [
    "from transformers import (\n",
    "    set_seed,\n",
    ")"
   ]
  },
  {
   "cell_type": "code",
   "execution_count": 2,
   "metadata": {},
   "outputs": [],
   "source": [
    "#!pip install torch datasets seqeval"
   ]
  },
  {
   "cell_type": "code",
   "execution_count": 3,
   "metadata": {},
   "outputs": [],
   "source": [
    "set_seed(123)"
   ]
  },
  {
   "cell_type": "code",
   "execution_count": 4,
   "metadata": {},
   "outputs": [
    {
     "data": {
      "text/plain": [
       "(True, 'cuda')"
      ]
     },
     "execution_count": 4,
     "metadata": {},
     "output_type": "execute_result"
    }
   ],
   "source": [
    "import torch\n",
    "DEVICE = \"cuda\" if torch.cuda.is_available() else \"cpu\"\n",
    "torch.cuda.is_available(), DEVICE"
   ]
  },
  {
   "cell_type": "code",
   "execution_count": 5,
   "metadata": {},
   "outputs": [
    {
     "name": "stdout",
     "output_type": "stream",
     "text": [
      "DatasetDict({\n",
      "    train: Dataset({\n",
      "        features: ['tokens', 'tags'],\n",
      "        num_rows: 6707\n",
      "    })\n",
      "    validation: Dataset({\n",
      "        features: ['tokens', 'tags'],\n",
      "        num_rows: 745\n",
      "    })\n",
      "})\n"
     ]
    }
   ],
   "source": [
    "\n",
    "\n",
    "from datasets import load_dataset\n",
    "\n",
    "data_files = \"./train_jp.json\"\n",
    "datasets = load_dataset(\"json\", data_files=data_files, split={\n",
    "    \"train\": \"train[:80%]\",\n",
    "    \"validation\": \"train[80%:90%]\",\n",
    "    \"test\": \"train[90%:]\"\n",
    "})\n",
    "\n",
    "print(datasets)"
   ]
  },
  {
   "cell_type": "code",
   "execution_count": 6,
   "metadata": {},
   "outputs": [
    {
     "data": {
      "text/plain": [
       "(['tokens', 'tags'],\n",
       " {'tokens': Sequence(feature=Value(dtype='string', id=None), length=-1, id=None),\n",
       "  'tags': Sequence(feature=Value(dtype='string', id=None), length=-1, id=None)})"
      ]
     },
     "execution_count": 6,
     "metadata": {},
     "output_type": "execute_result"
    }
   ],
   "source": [
    "column_names = datasets[\"train\"].column_names\n",
    "features = datasets[\"train\"].features\n",
    "\n",
    "column_names, features"
   ]
  },
  {
   "cell_type": "code",
   "execution_count": 7,
   "metadata": {},
   "outputs": [
    {
     "data": {
      "text/plain": [
       "('tokens', 'tags')"
      ]
     },
     "execution_count": 7,
     "metadata": {},
     "output_type": "execute_result"
    }
   ],
   "source": [
    "text_column_name = \"tokens\" if \"tokens\" in column_names else column_names[0]\n",
    "label_column_name = (\n",
    "    f\"pos_tags\" if f\"pos_tags\" in column_names else column_names[1]\n",
    ")\n",
    "\n",
    "text_column_name, label_column_name"
   ]
  },
  {
   "cell_type": "code",
   "execution_count": 8,
   "metadata": {},
   "outputs": [
    {
     "data": {
      "text/plain": [
       "False"
      ]
     },
     "execution_count": 8,
     "metadata": {},
     "output_type": "execute_result"
    }
   ],
   "source": [
    "from datasets import ClassLabel\n",
    "\n",
    "isinstance(features[label_column_name].feature, ClassLabel)"
   ]
  },
  {
   "cell_type": "code",
   "execution_count": 9,
   "metadata": {},
   "outputs": [
    {
     "data": {
      "text/plain": [
       "(['B', 'I', 'O'], {'B': 0, 'I': 1, 'O': 2})"
      ]
     },
     "execution_count": 9,
     "metadata": {},
     "output_type": "execute_result"
    }
   ],
   "source": [
    "# In the event the labels are not a `Sequence[ClassLabel]`, we will need to go through the dataset to get the\n",
    "    # unique labels.\n",
    "def get_label_list(labels):\n",
    "    unique_labels = set()\n",
    "    for label in labels:\n",
    "        unique_labels = unique_labels | set(label)\n",
    "    label_list = list(unique_labels)\n",
    "    label_list.sort()\n",
    "    return label_list\n",
    "\n",
    "label_list = get_label_list(datasets[\"train\"][label_column_name])\n",
    "label_to_id = {l: i for i, l in enumerate(label_list)}\n",
    "num_labels = len(label_list)\n",
    "\n",
    "label_list, label_to_id"
   ]
  },
  {
   "cell_type": "code",
   "execution_count": null,
   "metadata": {},
   "outputs": [],
   "source": []
  },
  {
   "cell_type": "code",
   "execution_count": 10,
   "metadata": {},
   "outputs": [
    {
     "data": {
      "text/plain": [
       "device(type='cuda')"
      ]
     },
     "execution_count": 10,
     "metadata": {},
     "output_type": "execute_result"
    }
   ],
   "source": [
    "from accelerate import Accelerator\n",
    "\n",
    "# Initialize accelerator\n",
    "accelerator = Accelerator()\n",
    "\n",
    "accelerator.device"
   ]
  },
  {
   "cell_type": "code",
   "execution_count": 11,
   "metadata": {},
   "outputs": [
    {
     "name": "stderr",
     "output_type": "stream",
     "text": [
      "Some weights of the model checkpoint at agne/jobGBERT were not used when initializing BertForTokenClassification: ['cls.predictions.transform.LayerNorm.bias', 'cls.predictions.transform.dense.bias', 'cls.predictions.decoder.weight', 'cls.predictions.transform.dense.weight', 'cls.predictions.transform.LayerNorm.weight', 'cls.predictions.decoder.bias', 'cls.predictions.bias']\n",
      "- This IS expected if you are initializing BertForTokenClassification from the checkpoint of a model trained on another task or with another architecture (e.g. initializing a BertForSequenceClassification model from a BertForPreTraining model).\n",
      "- This IS NOT expected if you are initializing BertForTokenClassification from the checkpoint of a model that you expect to be exactly identical (initializing a BertForSequenceClassification model from a BertForSequenceClassification model).\n",
      "Some weights of BertForTokenClassification were not initialized from the model checkpoint at agne/jobGBERT and are newly initialized: ['classifier.weight', 'classifier.bias']\n",
      "You should probably TRAIN this model on a down-stream task to be able to use it for predictions and inference.\n"
     ]
    }
   ],
   "source": [
    "from transformers import AutoConfig, BertTokenizerFast, BertForTokenClassification\n",
    "\n",
    "\n",
    "model_name_or_path = \"agne/jobGBERT\"\n",
    "\n",
    "config = AutoConfig.from_pretrained(\n",
    "    model_name_or_path,\n",
    "    num_labels=num_labels,\n",
    "    finetuning_task=\"pos\",\n",
    ")\n",
    "tokenizer = BertTokenizerFast.from_pretrained(\n",
    "    model_name_or_path,\n",
    ")\n",
    "model = BertForTokenClassification.from_pretrained(\n",
    "    model_name_or_path,\n",
    "    config=config,\n",
    ")"
   ]
  },
  {
   "cell_type": "code",
   "execution_count": 12,
   "metadata": {},
   "outputs": [],
   "source": [
    "padding = \"max_length\" # False"
   ]
  },
  {
   "cell_type": "code",
   "execution_count": 13,
   "metadata": {},
   "outputs": [],
   "source": [
    "\n",
    "\n",
    "# Whether to put the label for one word on all tokens of generated by that word or just on the \"\"one (in which case the other tokens will have a padding index).\n",
    "label_all_tokens = False\n",
    "\n",
    "def tokenize_and_align_labels(examples):\n",
    "    tokenized_inputs = tokenizer(\n",
    "        examples[text_column_name],\n",
    "        padding=padding,\n",
    "        truncation=True,\n",
    "        # We use this argument because the texts in our dataset are lists of words (with a label for each word).\n",
    "        is_split_into_words=True,\n",
    "    )\n",
    "    labels = []\n",
    "    for i, label in enumerate(examples[label_column_name]):\n",
    "        word_ids = tokenized_inputs.word_ids(batch_index=i)\n",
    "        previous_word_idx = None\n",
    "        label_ids = []\n",
    "        for word_idx in word_ids:\n",
    "            # Special tokens have a word id that is None. We set the label to -100 so they are automatically\n",
    "            # ignored in the loss function.\n",
    "            if word_idx is None:\n",
    "                label_ids.append(-100)\n",
    "            # We set the label for the first token of each word.\n",
    "            elif word_idx != previous_word_idx:\n",
    "                label_ids.append(label_to_id[label[word_idx]])\n",
    "            # For the other tokens in a word, we set the label to either the current label or -100, depending on\n",
    "            # the label_all_tokens flag.\n",
    "            else:\n",
    "                label_ids.append(label_to_id[label[word_idx]] if label_all_tokens else -100)\n",
    "            previous_word_idx = word_idx\n",
    "\n",
    "        labels.append(label_ids)\n",
    "    tokenized_inputs[\"labels\"] = labels\n",
    "    return tokenized_inputs\n",
    "\n",
    "\n",
    "#datasets.set_format(\"torch\", columns=[\"input_ids\", \"attention_mask\"])\n",
    "datasets = datasets.map(\n",
    "    tokenize_and_align_labels,\n",
    "    batched=True,\n",
    "    num_proc=None,\n",
    "    load_from_cache_file=None,\n",
    ")\n",
    "\n",
    "train_dataset = datasets[\"train\"]\n",
    "#train_dataset = train_dataset.map(\n",
    "#    tokenize_and_align_labels,\n",
    "#    batched=True,\n",
    "#    num_proc=None,\n",
    "#    load_from_cache_file=None,\n",
    "#)\n",
    "\n",
    "\n",
    "eval_dataset = datasets[\"validation\"]\n",
    "#eval_dataset = eval_dataset.map(\n",
    "#    tokenize_and_align_labels,\n",
    "#    batched=True,\n",
    "#    num_proc=None,\n",
    "#    load_from_cache_file=None,\n",
    "#)\n"
   ]
  },
  {
   "cell_type": "code",
   "execution_count": 14,
   "metadata": {},
   "outputs": [],
   "source": [
    "from transformers import DataCollatorForTokenClassification\n",
    "\n",
    "fp16 = False\n",
    "\n",
    "data_collator = DataCollatorForTokenClassification(tokenizer, pad_to_multiple_of=8 if fp16 else None)\n",
    "\n"
   ]
  },
  {
   "cell_type": "code",
   "execution_count": 15,
   "metadata": {
    "scrolled": true
   },
   "outputs": [
    {
     "name": "stderr",
     "output_type": "stream",
     "text": [
      "C:\\Users\\karam\\AppData\\Local\\Temp\\ipykernel_13688\\2225024028.py:3: FutureWarning: load_metric is deprecated and will be removed in the next major version of datasets. Use 'evaluate.load' instead, from the new library 🤗 Evaluate: https://huggingface.co/docs/evaluate\n",
      "  metric = load_metric(\"./my_seqeval.py\")\n"
     ]
    }
   ],
   "source": [
    "# Metrics\n",
    "from datasets import load_metric\n",
    "metric = load_metric(\"./my_seqeval.py\")\n",
    "\n",
    "return_entity_level_metrics = False\n",
    "\n",
    "def compute_metrics(p):\n",
    "    predictions, labels = p\n",
    "    predictions = np.argmax(predictions, axis=2)\n",
    "\n",
    "    # Remove ignored index (special tokens)\n",
    "    true_predictions = [\n",
    "        [label_list[p] for (p, l) in zip(prediction, label) if l != -100]\n",
    "        for prediction, label in zip(predictions, labels)\n",
    "    ]\n",
    "    true_labels = [\n",
    "        [label_list[l] for (p, l) in zip(prediction, label) if l != -100]\n",
    "        for prediction, label in zip(predictions, labels)\n",
    "    ]\n",
    "\n",
    "    results = metric.compute(predictions=true_predictions, references=true_labels)\n",
    "    if return_entity_level_metrics:\n",
    "        # Unpack nested dictionaries\n",
    "        final_results = {}\n",
    "        for key, value in results.items():\n",
    "            if isinstance(value, dict):\n",
    "                for n, v in value.items():\n",
    "                    final_results[f\"{key}_{n}\"] = v\n",
    "            else:\n",
    "                final_results[key] = value\n",
    "        return final_results\n",
    "    else:\n",
    "        with open(\"metrics.json\", \"w\") as f:\n",
    "            json.dump(computed_metrics, f)\n",
    "\n",
    "        return {\n",
    "            \"precision\": results[\"overall_precision\"],\n",
    "            \"recall\": results[\"overall_recall\"],\n",
    "            \"f1\": results[\"overall_f1\"],\n",
    "            \"accuracy\": results[\"overall_accuracy\"],\n",
    "        }\n",
    "\n"
   ]
  },
  {
   "cell_type": "code",
   "execution_count": 16,
   "metadata": {},
   "outputs": [],
   "source": [
    "import os\n",
    "from transformers.trainer_utils import get_last_checkpoint\n",
    "\n",
    "output_dir = \"./out_new3\"\n",
    "overwrite_output_dir = False\n",
    "\n",
    "last_checkpoint = None\n",
    "if os.path.isdir(output_dir) and not overwrite_output_dir:\n",
    "    last_checkpoint = get_last_checkpoint(output_dir)\n"
   ]
  },
  {
   "cell_type": "code",
   "execution_count": 17,
   "metadata": {},
   "outputs": [],
   "source": [
    "from transformers import Trainer, TrainingArguments\n",
    "\n",
    "training_args = TrainingArguments(do_train=True, do_eval=True,\n",
    "                                  num_train_epochs=10, per_device_train_batch_size=8, per_gpu_eval_batch_size=8, save_steps=1000,\n",
    "                                  seed=123, output_dir=output_dir)\n",
    "\n",
    "model.to(accelerator.device)\n",
    "# Initialize our Trainer\n",
    "trainer = Trainer(\n",
    "    model=model,\n",
    "    args=training_args,\n",
    "    train_dataset=train_dataset,\n",
    "    eval_dataset=eval_dataset if training_args.do_eval else None,\n",
    "    tokenizer=tokenizer,\n",
    "    data_collator=data_collator,\n",
    "    compute_metrics=compute_metrics,\n",
    ")"
   ]
  },
  {
   "cell_type": "code",
   "execution_count": null,
   "metadata": {},
   "outputs": [],
   "source": [
    "#import torch\n",
    "#torch.cuda.empty_cache()"
   ]
  },
  {
   "cell_type": "code",
   "execution_count": null,
   "metadata": {},
   "outputs": [],
   "source": [
    "torch.cuda.get_device_name(0)"
   ]
  },
  {
   "cell_type": "code",
   "execution_count": 18,
   "metadata": {
    "scrolled": true
   },
   "outputs": [
    {
     "name": "stderr",
     "output_type": "stream",
     "text": [
      "Loading model from ./out_new3\\checkpoint-2000).\n",
      "The following columns in the training set  don't have a corresponding argument in `BertForTokenClassification.forward` and have been ignored: tokens, tags.\n",
      "C:\\Users\\karam\\mambaforge\\envs\\job\\Lib\\site-packages\\transformers\\optimization.py:306: FutureWarning: This implementation of AdamW is deprecated and will be removed in a future version. Use thePyTorch implementation torch.optim.AdamW instead, or set `no_deprecation_warning=True` to disable this warning\n",
      "  warnings.warn(\n",
      "***** Running training *****\n",
      "  Num examples = 6707\n",
      "  Num Epochs = 10\n",
      "  Instantaneous batch size per device = 8\n",
      "  Total train batch size (w. parallel, distributed & accumulation) = 8\n",
      "  Gradient Accumulation steps = 1\n",
      "  Total optimization steps = 8390\n",
      "  Continuing training from checkpoint, will skip to saved global_step\n",
      "  Continuing training from epoch 2\n",
      "  Continuing training from global step 2000\n",
      "  Will skip the first 2 epochs then the first 322 batches in the first epoch. If this takes a lot of time, you can add the `--ignore_data_skip` flag to your launch command, but you will resume the training on data already seen by your model.\n",
      "Skipping the first batches: 100%|████████████████████████████████████████████████████| 322/322 [00:17<00:00, 18.42it/s]\n"
     ]
    },
    {
     "data": {
      "text/html": [
       "\n",
       "    <div>\n",
       "      \n",
       "      <progress value='8390' max='8390' style='width:300px; height:20px; vertical-align: middle;'></progress>\n",
       "      [8390/8390 6:16:56, Epoch 10/10]\n",
       "    </div>\n",
       "    <table border=\"1\" class=\"dataframe\">\n",
       "  <thead>\n",
       " <tr style=\"text-align: left;\">\n",
       "      <th>Step</th>\n",
       "      <th>Training Loss</th>\n",
       "    </tr>\n",
       "  </thead>\n",
       "  <tbody>\n",
       "    <tr>\n",
       "      <td>2500</td>\n",
       "      <td>0.224100</td>\n",
       "    </tr>\n",
       "    <tr>\n",
       "      <td>3000</td>\n",
       "      <td>0.176200</td>\n",
       "    </tr>\n",
       "    <tr>\n",
       "      <td>3500</td>\n",
       "      <td>0.183100</td>\n",
       "    </tr>\n",
       "    <tr>\n",
       "      <td>4000</td>\n",
       "      <td>0.136600</td>\n",
       "    </tr>\n",
       "    <tr>\n",
       "      <td>4500</td>\n",
       "      <td>0.114900</td>\n",
       "    </tr>\n",
       "    <tr>\n",
       "      <td>5000</td>\n",
       "      <td>0.097300</td>\n",
       "    </tr>\n",
       "    <tr>\n",
       "      <td>5500</td>\n",
       "      <td>0.075800</td>\n",
       "    </tr>\n",
       "    <tr>\n",
       "      <td>6000</td>\n",
       "      <td>0.062800</td>\n",
       "    </tr>\n",
       "    <tr>\n",
       "      <td>6500</td>\n",
       "      <td>0.055900</td>\n",
       "    </tr>\n",
       "    <tr>\n",
       "      <td>7000</td>\n",
       "      <td>0.050700</td>\n",
       "    </tr>\n",
       "    <tr>\n",
       "      <td>7500</td>\n",
       "      <td>0.035000</td>\n",
       "    </tr>\n",
       "    <tr>\n",
       "      <td>8000</td>\n",
       "      <td>0.031500</td>\n",
       "    </tr>\n",
       "  </tbody>\n",
       "</table><p>"
      ],
      "text/plain": [
       "<IPython.core.display.HTML object>"
      ]
     },
     "metadata": {},
     "output_type": "display_data"
    },
    {
     "name": "stderr",
     "output_type": "stream",
     "text": [
      "Saving model checkpoint to ./out_new3\\checkpoint-3000\n",
      "Configuration saved in ./out_new3\\checkpoint-3000\\config.json\n",
      "Model weights saved in ./out_new3\\checkpoint-3000\\pytorch_model.bin\n",
      "tokenizer config file saved in ./out_new3\\checkpoint-3000\\tokenizer_config.json\n",
      "Special tokens file saved in ./out_new3\\checkpoint-3000\\special_tokens_map.json\n",
      "Saving model checkpoint to ./out_new3\\checkpoint-4000\n",
      "Configuration saved in ./out_new3\\checkpoint-4000\\config.json\n",
      "Model weights saved in ./out_new3\\checkpoint-4000\\pytorch_model.bin\n",
      "tokenizer config file saved in ./out_new3\\checkpoint-4000\\tokenizer_config.json\n",
      "Special tokens file saved in ./out_new3\\checkpoint-4000\\special_tokens_map.json\n",
      "Saving model checkpoint to ./out_new3\\checkpoint-5000\n",
      "Configuration saved in ./out_new3\\checkpoint-5000\\config.json\n",
      "Model weights saved in ./out_new3\\checkpoint-5000\\pytorch_model.bin\n",
      "tokenizer config file saved in ./out_new3\\checkpoint-5000\\tokenizer_config.json\n",
      "Special tokens file saved in ./out_new3\\checkpoint-5000\\special_tokens_map.json\n",
      "Saving model checkpoint to ./out_new3\\checkpoint-6000\n",
      "Configuration saved in ./out_new3\\checkpoint-6000\\config.json\n",
      "Model weights saved in ./out_new3\\checkpoint-6000\\pytorch_model.bin\n",
      "tokenizer config file saved in ./out_new3\\checkpoint-6000\\tokenizer_config.json\n",
      "Special tokens file saved in ./out_new3\\checkpoint-6000\\special_tokens_map.json\n",
      "Saving model checkpoint to ./out_new3\\checkpoint-7000\n",
      "Configuration saved in ./out_new3\\checkpoint-7000\\config.json\n",
      "Model weights saved in ./out_new3\\checkpoint-7000\\pytorch_model.bin\n",
      "tokenizer config file saved in ./out_new3\\checkpoint-7000\\tokenizer_config.json\n",
      "Special tokens file saved in ./out_new3\\checkpoint-7000\\special_tokens_map.json\n",
      "Saving model checkpoint to ./out_new3\\checkpoint-8000\n",
      "Configuration saved in ./out_new3\\checkpoint-8000\\config.json\n",
      "Model weights saved in ./out_new3\\checkpoint-8000\\pytorch_model.bin\n",
      "tokenizer config file saved in ./out_new3\\checkpoint-8000\\tokenizer_config.json\n",
      "Special tokens file saved in ./out_new3\\checkpoint-8000\\special_tokens_map.json\n",
      "\n",
      "\n",
      "Training completed. Do not forget to share your model on huggingface.co/models =)\n",
      "\n",
      "\n",
      "Saving model checkpoint to ./out_new3\n",
      "Configuration saved in ./out_new3\\config.json\n",
      "Model weights saved in ./out_new3\\pytorch_model.bin\n",
      "tokenizer config file saved in ./out_new3\\tokenizer_config.json\n",
      "Special tokens file saved in ./out_new3\\special_tokens_map.json\n"
     ]
    },
    {
     "name": "stdout",
     "output_type": "stream",
     "text": [
      "***** train metrics *****\n",
      "  epoch                    =       10.0\n",
      "  total_flos               = 16321737GF\n",
      "  train_loss               =      0.076\n",
      "  train_runtime            = 6:17:25.09\n",
      "  train_samples            =       6707\n",
      "  train_samples_per_second =      2.962\n",
      "  train_steps_per_second   =       0.37\n"
     ]
    }
   ],
   "source": [
    "if last_checkpoint is not None:\n",
    "    checkpoint = last_checkpoint\n",
    "elif os.path.isdir(model_name_or_path):\n",
    "    checkpoint = model_name_or_path\n",
    "else:\n",
    "    checkpoint = None\n",
    "    \n",
    "train_result = trainer.train(resume_from_checkpoint=checkpoint)\n",
    "metrics = train_result.metrics\n",
    "trainer.save_model()  # Saves the tokenizer too for easy upload\n",
    "\n",
    "metrics[\"train_samples\"] = len(train_dataset)\n",
    "\n",
    "trainer.log_metrics(\"train\", metrics)\n",
    "trainer.save_metrics(\"train\", metrics)\n",
    "trainer.save_state()"
   ]
  },
  {
   "cell_type": "code",
   "execution_count": null,
   "metadata": {},
   "outputs": [],
   "source": []
  },
  {
   "cell_type": "code",
   "execution_count": null,
   "metadata": {},
   "outputs": [],
   "source": []
  }
 ],
 "metadata": {
  "kernelspec": {
   "display_name": "Python 3 (ipykernel)",
   "language": "python",
   "name": "python3"
  },
  "language_info": {
   "codemirror_mode": {
    "name": "ipython",
    "version": 3
   },
   "file_extension": ".py",
   "mimetype": "text/x-python",
   "name": "python",
   "nbconvert_exporter": "python",
   "pygments_lexer": "ipython3",
   "version": "3.11.5"
  }
 },
 "nbformat": 4,
 "nbformat_minor": 4
}
