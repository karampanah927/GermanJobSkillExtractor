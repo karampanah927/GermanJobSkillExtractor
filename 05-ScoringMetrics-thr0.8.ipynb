{
 "cells": [
  {
   "cell_type": "markdown",
   "metadata": {},
   "source": [
    "### Loading Bert fine-tuned Model"
   ]
  },
  {
   "cell_type": "code",
   "execution_count": 12,
   "metadata": {},
   "outputs": [
    {
     "name": "stderr",
     "output_type": "stream",
     "text": [
      "Some weights of the model checkpoint at C:\\Users\\karam\\PycharmProjects\\GermanJobSkillExtractor\\out_new3 were not used when initializing BertModel: ['classifier.bias', 'classifier.weight']\n",
      "- This IS expected if you are initializing BertModel from the checkpoint of a model trained on another task or with another architecture (e.g. initializing a BertForSequenceClassification model from a BertForPreTraining model).\n",
      "- This IS NOT expected if you are initializing BertModel from the checkpoint of a model that you expect to be exactly identical (initializing a BertForSequenceClassification model from a BertForSequenceClassification model).\n",
      "Some weights of BertModel were not initialized from the model checkpoint at C:\\Users\\karam\\PycharmProjects\\GermanJobSkillExtractor\\out_new3 and are newly initialized: ['bert.pooler.dense.weight', 'bert.pooler.dense.bias']\n",
      "You should probably TRAIN this model on a down-stream task to be able to use it for predictions and inference.\n"
     ]
    }
   ],
   "source": [
    "from pathlib import Path\n",
    "import os\n",
    "import torch\n",
    "from transformers import pipeline, BertTokenizerFast, BertForTokenClassification, BertModel\n",
    "\n",
    "os.environ[\"TOKENIZERS_PARALLELISM\"] = \"true\"\n",
    "\n",
    "DEVICE = \"cuda\" if torch.cuda.is_available() else \"cpu\"\n",
    "MODEL_PATH = str(Path(\"./out_new3\").absolute())\n",
    "TOKENIZER = BertTokenizerFast.from_pretrained(MODEL_PATH)\n",
    "MODEL = BertForTokenClassification.from_pretrained(MODEL_PATH)\n",
    "MODEL.eval()\n",
    "MODEL_BERT = BertModel.from_pretrained(MODEL_PATH, output_hidden_states = True)\n",
    "MODEL_BERT.eval()\n",
    "pipe = pipeline(\"token-classification\", model=MODEL, tokenizer=TOKENIZER)\n",
    "\n",
    "LABELS_MAP = dict(LABEL_0='B', LABEL_1='I', LABEL_2='O')"
   ]
  },
  {
   "cell_type": "markdown",
   "metadata": {},
   "source": [
    "### Calc ESCO embeddings"
   ]
  },
  {
   "cell_type": "code",
   "execution_count": 13,
   "metadata": {},
   "outputs": [],
   "source": [
    "def get_embedding(text: str):\n",
    "    encoded = TOKENIZER.encode_plus(\n",
    "                text,\n",
    "                return_tensors=\"pt\",\n",
    "                truncation=True,\n",
    "                ).to(DEVICE)\n",
    "    with torch.no_grad():\n",
    "        output = MODEL_BERT(**encoded)\n",
    "        return torch.mean(output.last_hidden_state.squeeze(), dim=0).numpy()"
   ]
  },
  {
   "cell_type": "code",
   "execution_count": 14,
   "metadata": {},
   "outputs": [],
   "source": [
    "import joblib\n",
    "from tqdm import tqdm\n",
    "import numpy as np\n",
    "\n",
    "JOBS_EMB_FILE = Path(\"SKILLS_DE_EMD.joblib\")\n",
    "\n",
    "if JOBS_EMB_FILE.exists():\n",
    "    JOBS_EMB = joblib.load(JOBS_EMB_FILE)\n",
    "else:\n",
    "    JOBS_EMB = dict()\n",
    "    with open(\"skills_de.txt\", \"rt\", encoding=\"utf8\") as f:\n",
    "        for line in tqdm(list(f)[:100]):\n",
    "            span = line.split(\"\\t\")[0]\n",
    "            emb = get_embedding(span) \n",
    "            JOBS_EMB[span] = emb\n",
    "    joblib.dump(JOBS_EMB, JOBS_EMB_FILE, compress=5)\n",
    "\n",
    "ESCO_JOB_SPANS = list(JOBS_EMB.keys())\n",
    "ESCO_JOB_SPANS_EMB = np.array(list(JOBS_EMB.values()))"
   ]
  },
  {
   "cell_type": "markdown",
   "metadata": {},
   "source": [
    "### Load Files to label"
   ]
  },
  {
   "cell_type": "code",
   "execution_count": 15,
   "metadata": {},
   "outputs": [],
   "source": [
    "SEEN_CACHE = dict()\n",
    "\n",
    "def get_models_span_embedding(text: str):\n",
    "    key = text.lower()\n",
    "    if key in SEEN_CACHE:\n",
    "        return SEEN_CACHE[key]\n",
    "    emb = get_embedding(text)\n",
    "    SEEN_CACHE[key] = emb\n",
    "    return emb"
   ]
  },
  {
   "cell_type": "code",
   "execution_count": 16,
   "metadata": {},
   "outputs": [
    {
     "name": "stderr",
     "output_type": "stream",
     "text": [
      "  0%|                                                                                         | 0/2838 [00:00<?, ?it/s]\n",
      "  0%|                                                                                           | 0/64 [00:00<?, ?it/s]\u001b[A\n",
      "  0%|                                                                                         | 0/2838 [00:00<?, ?it/s]\u001b[A\n"
     ]
    },
    {
     "ename": "RuntimeError",
     "evalue": "Expected all tensors to be on the same device, but found at least two devices, cpu and cuda:0! (when checking argument for argument index in method wrapper_CUDA__index_select)",
     "output_type": "error",
     "traceback": [
      "\u001b[1;31m---------------------------------------------------------------------------\u001b[0m",
      "\u001b[1;31mRuntimeError\u001b[0m                              Traceback (most recent call last)",
      "Cell \u001b[1;32mIn[16], line 37\u001b[0m\n\u001b[0;32m     33\u001b[0m end \u001b[38;5;241m=\u001b[39m tokens[\u001b[38;5;241m-\u001b[39m\u001b[38;5;241m1\u001b[39m][\u001b[38;5;124m\"\u001b[39m\u001b[38;5;124mend\u001b[39m\u001b[38;5;124m\"\u001b[39m]\n\u001b[0;32m     35\u001b[0m span \u001b[38;5;241m=\u001b[39m line[start:end]\n\u001b[1;32m---> 37\u001b[0m emb \u001b[38;5;241m=\u001b[39m \u001b[43mget_models_span_embedding\u001b[49m\u001b[43m(\u001b[49m\u001b[43mspan\u001b[49m\u001b[43m)\u001b[49m\n\u001b[0;32m     38\u001b[0m sims \u001b[38;5;241m=\u001b[39m cosine_similarity([emb], ESCO_JOB_SPANS_EMB)\u001b[38;5;241m.\u001b[39msqueeze()\n\u001b[0;32m     39\u001b[0m max_idx \u001b[38;5;241m=\u001b[39m np\u001b[38;5;241m.\u001b[39margmax(sims)\n",
      "Cell \u001b[1;32mIn[15], line 7\u001b[0m, in \u001b[0;36mget_models_span_embedding\u001b[1;34m(text)\u001b[0m\n\u001b[0;32m      5\u001b[0m \u001b[38;5;28;01mif\u001b[39;00m key \u001b[38;5;129;01min\u001b[39;00m SEEN_CACHE:\n\u001b[0;32m      6\u001b[0m     \u001b[38;5;28;01mreturn\u001b[39;00m SEEN_CACHE[key]\n\u001b[1;32m----> 7\u001b[0m emb \u001b[38;5;241m=\u001b[39m \u001b[43mget_embedding\u001b[49m\u001b[43m(\u001b[49m\u001b[43mtext\u001b[49m\u001b[43m)\u001b[49m\n\u001b[0;32m      8\u001b[0m SEEN_CACHE[key] \u001b[38;5;241m=\u001b[39m emb\n\u001b[0;32m      9\u001b[0m \u001b[38;5;28;01mreturn\u001b[39;00m emb\n",
      "Cell \u001b[1;32mIn[13], line 8\u001b[0m, in \u001b[0;36mget_embedding\u001b[1;34m(text)\u001b[0m\n\u001b[0;32m      2\u001b[0m encoded \u001b[38;5;241m=\u001b[39m TOKENIZER\u001b[38;5;241m.\u001b[39mencode_plus(\n\u001b[0;32m      3\u001b[0m             text,\n\u001b[0;32m      4\u001b[0m             return_tensors\u001b[38;5;241m=\u001b[39m\u001b[38;5;124m\"\u001b[39m\u001b[38;5;124mpt\u001b[39m\u001b[38;5;124m\"\u001b[39m,\n\u001b[0;32m      5\u001b[0m             truncation\u001b[38;5;241m=\u001b[39m\u001b[38;5;28;01mTrue\u001b[39;00m,\n\u001b[0;32m      6\u001b[0m             )\u001b[38;5;241m.\u001b[39mto(DEVICE)\n\u001b[0;32m      7\u001b[0m \u001b[38;5;28;01mwith\u001b[39;00m torch\u001b[38;5;241m.\u001b[39mno_grad():\n\u001b[1;32m----> 8\u001b[0m     output \u001b[38;5;241m=\u001b[39m \u001b[43mMODEL_BERT\u001b[49m\u001b[43m(\u001b[49m\u001b[38;5;241;43m*\u001b[39;49m\u001b[38;5;241;43m*\u001b[39;49m\u001b[43mencoded\u001b[49m\u001b[43m)\u001b[49m\n\u001b[0;32m      9\u001b[0m     \u001b[38;5;28;01mreturn\u001b[39;00m torch\u001b[38;5;241m.\u001b[39mmean(output\u001b[38;5;241m.\u001b[39mlast_hidden_state\u001b[38;5;241m.\u001b[39msqueeze(), dim\u001b[38;5;241m=\u001b[39m\u001b[38;5;241m0\u001b[39m)\u001b[38;5;241m.\u001b[39mnumpy()\n",
      "File \u001b[1;32m~\\mambaforge\\envs\\job\\Lib\\site-packages\\torch\\nn\\modules\\module.py:1518\u001b[0m, in \u001b[0;36mModule._wrapped_call_impl\u001b[1;34m(self, *args, **kwargs)\u001b[0m\n\u001b[0;32m   1516\u001b[0m     \u001b[38;5;28;01mreturn\u001b[39;00m \u001b[38;5;28mself\u001b[39m\u001b[38;5;241m.\u001b[39m_compiled_call_impl(\u001b[38;5;241m*\u001b[39margs, \u001b[38;5;241m*\u001b[39m\u001b[38;5;241m*\u001b[39mkwargs)  \u001b[38;5;66;03m# type: ignore[misc]\u001b[39;00m\n\u001b[0;32m   1517\u001b[0m \u001b[38;5;28;01melse\u001b[39;00m:\n\u001b[1;32m-> 1518\u001b[0m     \u001b[38;5;28;01mreturn\u001b[39;00m \u001b[38;5;28;43mself\u001b[39;49m\u001b[38;5;241;43m.\u001b[39;49m\u001b[43m_call_impl\u001b[49m\u001b[43m(\u001b[49m\u001b[38;5;241;43m*\u001b[39;49m\u001b[43margs\u001b[49m\u001b[43m,\u001b[49m\u001b[43m \u001b[49m\u001b[38;5;241;43m*\u001b[39;49m\u001b[38;5;241;43m*\u001b[39;49m\u001b[43mkwargs\u001b[49m\u001b[43m)\u001b[49m\n",
      "File \u001b[1;32m~\\mambaforge\\envs\\job\\Lib\\site-packages\\torch\\nn\\modules\\module.py:1527\u001b[0m, in \u001b[0;36mModule._call_impl\u001b[1;34m(self, *args, **kwargs)\u001b[0m\n\u001b[0;32m   1522\u001b[0m \u001b[38;5;66;03m# If we don't have any hooks, we want to skip the rest of the logic in\u001b[39;00m\n\u001b[0;32m   1523\u001b[0m \u001b[38;5;66;03m# this function, and just call forward.\u001b[39;00m\n\u001b[0;32m   1524\u001b[0m \u001b[38;5;28;01mif\u001b[39;00m \u001b[38;5;129;01mnot\u001b[39;00m (\u001b[38;5;28mself\u001b[39m\u001b[38;5;241m.\u001b[39m_backward_hooks \u001b[38;5;129;01mor\u001b[39;00m \u001b[38;5;28mself\u001b[39m\u001b[38;5;241m.\u001b[39m_backward_pre_hooks \u001b[38;5;129;01mor\u001b[39;00m \u001b[38;5;28mself\u001b[39m\u001b[38;5;241m.\u001b[39m_forward_hooks \u001b[38;5;129;01mor\u001b[39;00m \u001b[38;5;28mself\u001b[39m\u001b[38;5;241m.\u001b[39m_forward_pre_hooks\n\u001b[0;32m   1525\u001b[0m         \u001b[38;5;129;01mor\u001b[39;00m _global_backward_pre_hooks \u001b[38;5;129;01mor\u001b[39;00m _global_backward_hooks\n\u001b[0;32m   1526\u001b[0m         \u001b[38;5;129;01mor\u001b[39;00m _global_forward_hooks \u001b[38;5;129;01mor\u001b[39;00m _global_forward_pre_hooks):\n\u001b[1;32m-> 1527\u001b[0m     \u001b[38;5;28;01mreturn\u001b[39;00m \u001b[43mforward_call\u001b[49m\u001b[43m(\u001b[49m\u001b[38;5;241;43m*\u001b[39;49m\u001b[43margs\u001b[49m\u001b[43m,\u001b[49m\u001b[43m \u001b[49m\u001b[38;5;241;43m*\u001b[39;49m\u001b[38;5;241;43m*\u001b[39;49m\u001b[43mkwargs\u001b[49m\u001b[43m)\u001b[49m\n\u001b[0;32m   1529\u001b[0m \u001b[38;5;28;01mtry\u001b[39;00m:\n\u001b[0;32m   1530\u001b[0m     result \u001b[38;5;241m=\u001b[39m \u001b[38;5;28;01mNone\u001b[39;00m\n",
      "File \u001b[1;32m~\\mambaforge\\envs\\job\\Lib\\site-packages\\transformers\\models\\bert\\modeling_bert.py:989\u001b[0m, in \u001b[0;36mBertModel.forward\u001b[1;34m(self, input_ids, attention_mask, token_type_ids, position_ids, head_mask, inputs_embeds, encoder_hidden_states, encoder_attention_mask, past_key_values, use_cache, output_attentions, output_hidden_states, return_dict)\u001b[0m\n\u001b[0;32m    982\u001b[0m \u001b[38;5;66;03m# Prepare head mask if needed\u001b[39;00m\n\u001b[0;32m    983\u001b[0m \u001b[38;5;66;03m# 1.0 in head_mask indicate we keep the head\u001b[39;00m\n\u001b[0;32m    984\u001b[0m \u001b[38;5;66;03m# attention_probs has shape bsz x n_heads x N x N\u001b[39;00m\n\u001b[0;32m    985\u001b[0m \u001b[38;5;66;03m# input head_mask has shape [num_heads] or [num_hidden_layers x num_heads]\u001b[39;00m\n\u001b[0;32m    986\u001b[0m \u001b[38;5;66;03m# and head_mask is converted to shape [num_hidden_layers x batch x num_heads x seq_length x seq_length]\u001b[39;00m\n\u001b[0;32m    987\u001b[0m head_mask \u001b[38;5;241m=\u001b[39m \u001b[38;5;28mself\u001b[39m\u001b[38;5;241m.\u001b[39mget_head_mask(head_mask, \u001b[38;5;28mself\u001b[39m\u001b[38;5;241m.\u001b[39mconfig\u001b[38;5;241m.\u001b[39mnum_hidden_layers)\n\u001b[1;32m--> 989\u001b[0m embedding_output \u001b[38;5;241m=\u001b[39m \u001b[38;5;28;43mself\u001b[39;49m\u001b[38;5;241;43m.\u001b[39;49m\u001b[43membeddings\u001b[49m\u001b[43m(\u001b[49m\n\u001b[0;32m    990\u001b[0m \u001b[43m    \u001b[49m\u001b[43minput_ids\u001b[49m\u001b[38;5;241;43m=\u001b[39;49m\u001b[43minput_ids\u001b[49m\u001b[43m,\u001b[49m\n\u001b[0;32m    991\u001b[0m \u001b[43m    \u001b[49m\u001b[43mposition_ids\u001b[49m\u001b[38;5;241;43m=\u001b[39;49m\u001b[43mposition_ids\u001b[49m\u001b[43m,\u001b[49m\n\u001b[0;32m    992\u001b[0m \u001b[43m    \u001b[49m\u001b[43mtoken_type_ids\u001b[49m\u001b[38;5;241;43m=\u001b[39;49m\u001b[43mtoken_type_ids\u001b[49m\u001b[43m,\u001b[49m\n\u001b[0;32m    993\u001b[0m \u001b[43m    \u001b[49m\u001b[43minputs_embeds\u001b[49m\u001b[38;5;241;43m=\u001b[39;49m\u001b[43minputs_embeds\u001b[49m\u001b[43m,\u001b[49m\n\u001b[0;32m    994\u001b[0m \u001b[43m    \u001b[49m\u001b[43mpast_key_values_length\u001b[49m\u001b[38;5;241;43m=\u001b[39;49m\u001b[43mpast_key_values_length\u001b[49m\u001b[43m,\u001b[49m\n\u001b[0;32m    995\u001b[0m \u001b[43m\u001b[49m\u001b[43m)\u001b[49m\n\u001b[0;32m    996\u001b[0m encoder_outputs \u001b[38;5;241m=\u001b[39m \u001b[38;5;28mself\u001b[39m\u001b[38;5;241m.\u001b[39mencoder(\n\u001b[0;32m    997\u001b[0m     embedding_output,\n\u001b[0;32m    998\u001b[0m     attention_mask\u001b[38;5;241m=\u001b[39mextended_attention_mask,\n\u001b[1;32m   (...)\u001b[0m\n\u001b[0;32m   1006\u001b[0m     return_dict\u001b[38;5;241m=\u001b[39mreturn_dict,\n\u001b[0;32m   1007\u001b[0m )\n\u001b[0;32m   1008\u001b[0m sequence_output \u001b[38;5;241m=\u001b[39m encoder_outputs[\u001b[38;5;241m0\u001b[39m]\n",
      "File \u001b[1;32m~\\mambaforge\\envs\\job\\Lib\\site-packages\\torch\\nn\\modules\\module.py:1518\u001b[0m, in \u001b[0;36mModule._wrapped_call_impl\u001b[1;34m(self, *args, **kwargs)\u001b[0m\n\u001b[0;32m   1516\u001b[0m     \u001b[38;5;28;01mreturn\u001b[39;00m \u001b[38;5;28mself\u001b[39m\u001b[38;5;241m.\u001b[39m_compiled_call_impl(\u001b[38;5;241m*\u001b[39margs, \u001b[38;5;241m*\u001b[39m\u001b[38;5;241m*\u001b[39mkwargs)  \u001b[38;5;66;03m# type: ignore[misc]\u001b[39;00m\n\u001b[0;32m   1517\u001b[0m \u001b[38;5;28;01melse\u001b[39;00m:\n\u001b[1;32m-> 1518\u001b[0m     \u001b[38;5;28;01mreturn\u001b[39;00m \u001b[38;5;28;43mself\u001b[39;49m\u001b[38;5;241;43m.\u001b[39;49m\u001b[43m_call_impl\u001b[49m\u001b[43m(\u001b[49m\u001b[38;5;241;43m*\u001b[39;49m\u001b[43margs\u001b[49m\u001b[43m,\u001b[49m\u001b[43m \u001b[49m\u001b[38;5;241;43m*\u001b[39;49m\u001b[38;5;241;43m*\u001b[39;49m\u001b[43mkwargs\u001b[49m\u001b[43m)\u001b[49m\n",
      "File \u001b[1;32m~\\mambaforge\\envs\\job\\Lib\\site-packages\\torch\\nn\\modules\\module.py:1527\u001b[0m, in \u001b[0;36mModule._call_impl\u001b[1;34m(self, *args, **kwargs)\u001b[0m\n\u001b[0;32m   1522\u001b[0m \u001b[38;5;66;03m# If we don't have any hooks, we want to skip the rest of the logic in\u001b[39;00m\n\u001b[0;32m   1523\u001b[0m \u001b[38;5;66;03m# this function, and just call forward.\u001b[39;00m\n\u001b[0;32m   1524\u001b[0m \u001b[38;5;28;01mif\u001b[39;00m \u001b[38;5;129;01mnot\u001b[39;00m (\u001b[38;5;28mself\u001b[39m\u001b[38;5;241m.\u001b[39m_backward_hooks \u001b[38;5;129;01mor\u001b[39;00m \u001b[38;5;28mself\u001b[39m\u001b[38;5;241m.\u001b[39m_backward_pre_hooks \u001b[38;5;129;01mor\u001b[39;00m \u001b[38;5;28mself\u001b[39m\u001b[38;5;241m.\u001b[39m_forward_hooks \u001b[38;5;129;01mor\u001b[39;00m \u001b[38;5;28mself\u001b[39m\u001b[38;5;241m.\u001b[39m_forward_pre_hooks\n\u001b[0;32m   1525\u001b[0m         \u001b[38;5;129;01mor\u001b[39;00m _global_backward_pre_hooks \u001b[38;5;129;01mor\u001b[39;00m _global_backward_hooks\n\u001b[0;32m   1526\u001b[0m         \u001b[38;5;129;01mor\u001b[39;00m _global_forward_hooks \u001b[38;5;129;01mor\u001b[39;00m _global_forward_pre_hooks):\n\u001b[1;32m-> 1527\u001b[0m     \u001b[38;5;28;01mreturn\u001b[39;00m \u001b[43mforward_call\u001b[49m\u001b[43m(\u001b[49m\u001b[38;5;241;43m*\u001b[39;49m\u001b[43margs\u001b[49m\u001b[43m,\u001b[49m\u001b[43m \u001b[49m\u001b[38;5;241;43m*\u001b[39;49m\u001b[38;5;241;43m*\u001b[39;49m\u001b[43mkwargs\u001b[49m\u001b[43m)\u001b[49m\n\u001b[0;32m   1529\u001b[0m \u001b[38;5;28;01mtry\u001b[39;00m:\n\u001b[0;32m   1530\u001b[0m     result \u001b[38;5;241m=\u001b[39m \u001b[38;5;28;01mNone\u001b[39;00m\n",
      "File \u001b[1;32m~\\mambaforge\\envs\\job\\Lib\\site-packages\\transformers\\models\\bert\\modeling_bert.py:214\u001b[0m, in \u001b[0;36mBertEmbeddings.forward\u001b[1;34m(self, input_ids, token_type_ids, position_ids, inputs_embeds, past_key_values_length)\u001b[0m\n\u001b[0;32m    211\u001b[0m         token_type_ids \u001b[38;5;241m=\u001b[39m torch\u001b[38;5;241m.\u001b[39mzeros(input_shape, dtype\u001b[38;5;241m=\u001b[39mtorch\u001b[38;5;241m.\u001b[39mlong, device\u001b[38;5;241m=\u001b[39m\u001b[38;5;28mself\u001b[39m\u001b[38;5;241m.\u001b[39mposition_ids\u001b[38;5;241m.\u001b[39mdevice)\n\u001b[0;32m    213\u001b[0m \u001b[38;5;28;01mif\u001b[39;00m inputs_embeds \u001b[38;5;129;01mis\u001b[39;00m \u001b[38;5;28;01mNone\u001b[39;00m:\n\u001b[1;32m--> 214\u001b[0m     inputs_embeds \u001b[38;5;241m=\u001b[39m \u001b[38;5;28;43mself\u001b[39;49m\u001b[38;5;241;43m.\u001b[39;49m\u001b[43mword_embeddings\u001b[49m\u001b[43m(\u001b[49m\u001b[43minput_ids\u001b[49m\u001b[43m)\u001b[49m\n\u001b[0;32m    215\u001b[0m token_type_embeddings \u001b[38;5;241m=\u001b[39m \u001b[38;5;28mself\u001b[39m\u001b[38;5;241m.\u001b[39mtoken_type_embeddings(token_type_ids)\n\u001b[0;32m    217\u001b[0m embeddings \u001b[38;5;241m=\u001b[39m inputs_embeds \u001b[38;5;241m+\u001b[39m token_type_embeddings\n",
      "File \u001b[1;32m~\\mambaforge\\envs\\job\\Lib\\site-packages\\torch\\nn\\modules\\module.py:1518\u001b[0m, in \u001b[0;36mModule._wrapped_call_impl\u001b[1;34m(self, *args, **kwargs)\u001b[0m\n\u001b[0;32m   1516\u001b[0m     \u001b[38;5;28;01mreturn\u001b[39;00m \u001b[38;5;28mself\u001b[39m\u001b[38;5;241m.\u001b[39m_compiled_call_impl(\u001b[38;5;241m*\u001b[39margs, \u001b[38;5;241m*\u001b[39m\u001b[38;5;241m*\u001b[39mkwargs)  \u001b[38;5;66;03m# type: ignore[misc]\u001b[39;00m\n\u001b[0;32m   1517\u001b[0m \u001b[38;5;28;01melse\u001b[39;00m:\n\u001b[1;32m-> 1518\u001b[0m     \u001b[38;5;28;01mreturn\u001b[39;00m \u001b[38;5;28;43mself\u001b[39;49m\u001b[38;5;241;43m.\u001b[39;49m\u001b[43m_call_impl\u001b[49m\u001b[43m(\u001b[49m\u001b[38;5;241;43m*\u001b[39;49m\u001b[43margs\u001b[49m\u001b[43m,\u001b[49m\u001b[43m \u001b[49m\u001b[38;5;241;43m*\u001b[39;49m\u001b[38;5;241;43m*\u001b[39;49m\u001b[43mkwargs\u001b[49m\u001b[43m)\u001b[49m\n",
      "File \u001b[1;32m~\\mambaforge\\envs\\job\\Lib\\site-packages\\torch\\nn\\modules\\module.py:1527\u001b[0m, in \u001b[0;36mModule._call_impl\u001b[1;34m(self, *args, **kwargs)\u001b[0m\n\u001b[0;32m   1522\u001b[0m \u001b[38;5;66;03m# If we don't have any hooks, we want to skip the rest of the logic in\u001b[39;00m\n\u001b[0;32m   1523\u001b[0m \u001b[38;5;66;03m# this function, and just call forward.\u001b[39;00m\n\u001b[0;32m   1524\u001b[0m \u001b[38;5;28;01mif\u001b[39;00m \u001b[38;5;129;01mnot\u001b[39;00m (\u001b[38;5;28mself\u001b[39m\u001b[38;5;241m.\u001b[39m_backward_hooks \u001b[38;5;129;01mor\u001b[39;00m \u001b[38;5;28mself\u001b[39m\u001b[38;5;241m.\u001b[39m_backward_pre_hooks \u001b[38;5;129;01mor\u001b[39;00m \u001b[38;5;28mself\u001b[39m\u001b[38;5;241m.\u001b[39m_forward_hooks \u001b[38;5;129;01mor\u001b[39;00m \u001b[38;5;28mself\u001b[39m\u001b[38;5;241m.\u001b[39m_forward_pre_hooks\n\u001b[0;32m   1525\u001b[0m         \u001b[38;5;129;01mor\u001b[39;00m _global_backward_pre_hooks \u001b[38;5;129;01mor\u001b[39;00m _global_backward_hooks\n\u001b[0;32m   1526\u001b[0m         \u001b[38;5;129;01mor\u001b[39;00m _global_forward_hooks \u001b[38;5;129;01mor\u001b[39;00m _global_forward_pre_hooks):\n\u001b[1;32m-> 1527\u001b[0m     \u001b[38;5;28;01mreturn\u001b[39;00m \u001b[43mforward_call\u001b[49m\u001b[43m(\u001b[49m\u001b[38;5;241;43m*\u001b[39;49m\u001b[43margs\u001b[49m\u001b[43m,\u001b[49m\u001b[43m \u001b[49m\u001b[38;5;241;43m*\u001b[39;49m\u001b[38;5;241;43m*\u001b[39;49m\u001b[43mkwargs\u001b[49m\u001b[43m)\u001b[49m\n\u001b[0;32m   1529\u001b[0m \u001b[38;5;28;01mtry\u001b[39;00m:\n\u001b[0;32m   1530\u001b[0m     result \u001b[38;5;241m=\u001b[39m \u001b[38;5;28;01mNone\u001b[39;00m\n",
      "File \u001b[1;32m~\\mambaforge\\envs\\job\\Lib\\site-packages\\torch\\nn\\modules\\sparse.py:162\u001b[0m, in \u001b[0;36mEmbedding.forward\u001b[1;34m(self, input)\u001b[0m\n\u001b[0;32m    161\u001b[0m \u001b[38;5;28;01mdef\u001b[39;00m \u001b[38;5;21mforward\u001b[39m(\u001b[38;5;28mself\u001b[39m, \u001b[38;5;28minput\u001b[39m: Tensor) \u001b[38;5;241m-\u001b[39m\u001b[38;5;241m>\u001b[39m Tensor:\n\u001b[1;32m--> 162\u001b[0m     \u001b[38;5;28;01mreturn\u001b[39;00m \u001b[43mF\u001b[49m\u001b[38;5;241;43m.\u001b[39;49m\u001b[43membedding\u001b[49m\u001b[43m(\u001b[49m\n\u001b[0;32m    163\u001b[0m \u001b[43m        \u001b[49m\u001b[38;5;28;43minput\u001b[39;49m\u001b[43m,\u001b[49m\u001b[43m \u001b[49m\u001b[38;5;28;43mself\u001b[39;49m\u001b[38;5;241;43m.\u001b[39;49m\u001b[43mweight\u001b[49m\u001b[43m,\u001b[49m\u001b[43m \u001b[49m\u001b[38;5;28;43mself\u001b[39;49m\u001b[38;5;241;43m.\u001b[39;49m\u001b[43mpadding_idx\u001b[49m\u001b[43m,\u001b[49m\u001b[43m \u001b[49m\u001b[38;5;28;43mself\u001b[39;49m\u001b[38;5;241;43m.\u001b[39;49m\u001b[43mmax_norm\u001b[49m\u001b[43m,\u001b[49m\n\u001b[0;32m    164\u001b[0m \u001b[43m        \u001b[49m\u001b[38;5;28;43mself\u001b[39;49m\u001b[38;5;241;43m.\u001b[39;49m\u001b[43mnorm_type\u001b[49m\u001b[43m,\u001b[49m\u001b[43m \u001b[49m\u001b[38;5;28;43mself\u001b[39;49m\u001b[38;5;241;43m.\u001b[39;49m\u001b[43mscale_grad_by_freq\u001b[49m\u001b[43m,\u001b[49m\u001b[43m \u001b[49m\u001b[38;5;28;43mself\u001b[39;49m\u001b[38;5;241;43m.\u001b[39;49m\u001b[43msparse\u001b[49m\u001b[43m)\u001b[49m\n",
      "File \u001b[1;32m~\\mambaforge\\envs\\job\\Lib\\site-packages\\torch\\nn\\functional.py:2233\u001b[0m, in \u001b[0;36membedding\u001b[1;34m(input, weight, padding_idx, max_norm, norm_type, scale_grad_by_freq, sparse)\u001b[0m\n\u001b[0;32m   2227\u001b[0m     \u001b[38;5;66;03m# Note [embedding_renorm set_grad_enabled]\u001b[39;00m\n\u001b[0;32m   2228\u001b[0m     \u001b[38;5;66;03m# XXX: equivalent to\u001b[39;00m\n\u001b[0;32m   2229\u001b[0m     \u001b[38;5;66;03m# with torch.no_grad():\u001b[39;00m\n\u001b[0;32m   2230\u001b[0m     \u001b[38;5;66;03m#   torch.embedding_renorm_\u001b[39;00m\n\u001b[0;32m   2231\u001b[0m     \u001b[38;5;66;03m# remove once script supports set_grad_enabled\u001b[39;00m\n\u001b[0;32m   2232\u001b[0m     _no_grad_embedding_renorm_(weight, \u001b[38;5;28minput\u001b[39m, max_norm, norm_type)\n\u001b[1;32m-> 2233\u001b[0m \u001b[38;5;28;01mreturn\u001b[39;00m \u001b[43mtorch\u001b[49m\u001b[38;5;241;43m.\u001b[39;49m\u001b[43membedding\u001b[49m\u001b[43m(\u001b[49m\u001b[43mweight\u001b[49m\u001b[43m,\u001b[49m\u001b[43m \u001b[49m\u001b[38;5;28;43minput\u001b[39;49m\u001b[43m,\u001b[49m\u001b[43m \u001b[49m\u001b[43mpadding_idx\u001b[49m\u001b[43m,\u001b[49m\u001b[43m \u001b[49m\u001b[43mscale_grad_by_freq\u001b[49m\u001b[43m,\u001b[49m\u001b[43m \u001b[49m\u001b[43msparse\u001b[49m\u001b[43m)\u001b[49m\n",
      "\u001b[1;31mRuntimeError\u001b[0m: Expected all tensors to be on the same device, but found at least two devices, cpu and cuda:0! (when checking argument for argument index in method wrapper_CUDA__index_select)"
     ]
    }
   ],
   "source": [
    "from itertools import groupby\n",
    "import re\n",
    "from operator import itemgetter, attrgetter\n",
    "from sklearn.metrics.pairwise import cosine_similarity\n",
    "\n",
    "# Map label 0 and 1 to same label for grouping \n",
    "LABELS_MAP = dict(LABEL_0='J', LABEL_1='J', LABEL_2='O')\n",
    "ESCO_LABEL_SIM_THR = .8\n",
    "\n",
    "DOCS_SPANS = []\n",
    "\n",
    "# files = Path(\"./tagedFiles\").glob(\"*.txt\")\n",
    "files = Path(\"C:/Users/karam/PycharmProjects/skillExtraction/itstellen\").glob(\"*.sents\")\n",
    "files2 = Path(\"C:/Users/karam/PycharmProjects/skillExtraction/karriere/out\").glob(\"*.sents\")\n",
    "for file in tqdm(list(files)+list(files2)):\n",
    "    spans = []\n",
    "    lines = file.read_text().split(\"\\n\")\n",
    "    # remove labels\n",
    "    # lines = [l.replace(\"<<*>>\", \"\") for l in lines]\n",
    "    for line in tqdm(lines, leave=False):\n",
    "        line = re.sub(r\"\\s+\", line, \" \", flags=re.DOTALL | re.IGNORECASE | re.MULTILINE)\n",
    "        # check exact match of esco\n",
    "        for esco_span in ESCO_JOB_SPANS:\n",
    "            if esco_span in line:\n",
    "                spans.append(esco_span)\n",
    "        \n",
    "        # use model to find job spans\n",
    "        labels = ({**la, \"entity\":LABELS_MAP[la[\"entity\"]]} for la in pipe(line))\n",
    "        for l, tokens in groupby(labels, key=itemgetter(\"entity\")):\n",
    "            if l == \"O\": continue\n",
    "            tokens = list(tokens)\n",
    "            start = tokens[0][\"start\"]\n",
    "            end = tokens[-1][\"end\"]\n",
    "\n",
    "            span = line[start:end]\n",
    "\n",
    "            emb = get_models_span_embedding(span)\n",
    "            sims = cosine_similarity([emb], ESCO_JOB_SPANS_EMB).squeeze()\n",
    "            max_idx = np.argmax(sims)\n",
    "\n",
    "            \n",
    "            if sims[max_idx] >= ESCO_LABEL_SIM_THR:\n",
    "                # print(\"esco replace:\", span, \" ==> \", ESCO_JOB_SPANS[max_idx])\n",
    "                normed_span = ESCO_JOB_SPANS[max_idx]\n",
    "                spans.append(normed_span)\n",
    "        \n",
    "    DOCS_SPANS.append(spans)\n"
   ]
  },
  {
   "cell_type": "code",
   "execution_count": 50,
   "metadata": {},
   "outputs": [
    {
     "name": "stdout",
     "output_type": "stream",
     "text": [
      "[['Systemkomponente erwerben', 'Systemkomponente erwerben', 'Systemkomponente erwerben', 'Absorb (Lernmanagementsysteme)', 'Buchhaltung', 'Anpassung an Änderungen in technologischen Entwicklungsplänen', 'Buchhaltungstechniken', 'Akupressur', 'ABAP', 'Akupressur', 'Anpassung an Änderungen in technologischen Entwicklungsplänen', 'Anpassung an Änderungen in technologischen Entwicklungsplänen', 'Anpassung an Änderungen in technologischen Entwicklungsplänen', 'Akupressur', 'Akupressur', 'Buchhaltung', 'Buchhaltungstechniken'], ['Buchhaltungstechniken', 'Buchhaltungstechniken', 'Anpassung an Änderungen in technologischen Entwicklungsplänen', 'Anpassung an Änderungen in technologischen Entwicklungsplänen', 'Anpassung an Änderungen in technologischen Entwicklungsplänen', 'Absorb (Lernmanagementsysteme)', 'Anpassung an Änderungen in technologischen Entwicklungsplänen', 'Sätze anpassen', 'Anpassung an Änderungen in technologischen Entwicklungsplänen', 'Absorb (Lernmanagementsysteme)', 'Akupressur', 'Anpassung an Veränderungen in der Forstwirtschaft', 'Buchhaltung'], ['Absorb (Lernmanagementsysteme)', 'ein Skript anpassen', 'Absorb (Lernmanagementsysteme)', 'Buchhaltungstechniken', 'ABAP', 'Buchhaltung', 'ABAP', 'Buchhaltung', 'ABAP', 'Akupressur', 'Buchhaltungstechniken', 'Akupressur', 'ABAP', 'ABAP', 'Buchhaltungstechniken', 'Buchhaltung', 'Systemkomponente erwerben', 'Buchhaltungstechniken', 'Anpassung an Änderungen in technologischen Entwicklungsplänen', '3D-Beleuchtung', 'Buchhaltungstechniken', 'Buchhaltungstechniken', 'Buchhaltungstechniken', 'Absorb (Lernmanagementsysteme)', 'Buchhaltungstechniken'], ['Absorb (Lernmanagementsysteme)', 'Absorb (Lernmanagementsysteme)', 'ABAP', 'Buchhaltungstechniken', 'Buchhaltungstechniken', 'Akutversorgung', 'ABAP', 'ein Skript anpassen', 'Akupressur', 'Buchhaltung', 'Computerkomponenten hinzufügen', '3D-Beleuchtung', 'ABAP', 'Buchhaltung', '3D-Beleuchtung', 'Akupressur', 'ein Skript anpassen', 'Anpassung an Änderungen in technologischen Entwicklungsplänen', 'Schauspieltechniken', 'Buchhaltungstechniken', 'Anpassung an Veränderungen im Marketing', 'Akutversorgung', 'ABAP', 'Akupressur', 'Anpassung an Änderungen in technologischen Entwicklungsplänen', 'Akupressur', 'ABAP', 'Systemkomponente erwerben', 'Sätze anpassen', 'Anpassung an Änderungen in technologischen Entwicklungsplänen', 'Requisiten anpassen', 'Farbe hinzufügen', 'Akupressur', 'Sätze anpassen', 'ein Skript anpassen'], ['ein Skript anpassen', 'ein Skript anpassen', 'ein Skript anpassen', 'Buchhaltung', 'Anpassung an Änderungen in technologischen Entwicklungsplänen', 'Systemkomponente erwerben', 'Buchhaltungstechniken', '3D-Druckverfahren', 'ABAP', '3D-Beleuchtung', 'Anpassung an Veränderungen im Marketing', 'Anpassung an Änderungen in technologischen Entwicklungsplänen', 'Anpassung an Änderungen in technologischen Entwicklungsplänen', 'ein Skript anpassen', 'Absorb (Lernmanagementsysteme)', 'Buchhaltungstechniken', 'Systemkomponente erwerben', 'ein Skript anpassen', 'Systemkomponente erwerben', 'ein Skript anpassen', 'Anpassung an Änderungen in technologischen Entwicklungsplänen'], ['Buchhaltungstechniken', 'Buchhaltung', 'Buchhaltungstechniken', 'Akupressur', 'Akupressur', 'Farbe hinzufügen', '3D-Beleuchtung', 'Systemkomponente erwerben', 'Systemkomponente erwerben'], ['ein Skript anpassen', 'ein Skript anpassen', 'Absorb (Lernmanagementsysteme)', 'ein Skript anpassen', 'Versicherungsmathematik', 'Buchhaltungstechniken', 'Buchhaltungstechniken', 'ein Skript anpassen', 'Anpassung an Änderungen in technologischen Entwicklungsplänen', 'Absorb (Lernmanagementsysteme)', 'Buchhaltung', 'Anpassung an Veränderungen im Marketing', 'Absorb (Lernmanagementsysteme)', 'ein Skript anpassen', 'Buchhaltungstechniken', 'Schauspieltechniken', 'Absorb (Lernmanagementsysteme)', 'ein Skript anpassen', 'ein Skript anpassen', 'Buchhaltungstechniken'], ['Anpassung an Änderungen in technologischen Entwicklungsplänen', 'Anpassung an Änderungen in technologischen Entwicklungsplänen', 'Buchhaltungstechniken', 'Sätze anpassen', 'Anpassung an Änderungen in technologischen Entwicklungsplänen', 'Anpassung an Änderungen in technologischen Entwicklungsplänen', 'Buchhaltungstechniken', '3D-Beleuchtung', '3D-Beleuchtung', 'Anpassung an Änderungen in technologischen Entwicklungsplänen', 'Anpassung an Änderungen in technologischen Entwicklungsplänen', 'Anpassung an Änderungen in technologischen Entwicklungsplänen', 'Anpassung an Änderungen in technologischen Entwicklungsplänen', 'ABAP', 'Akupressur', 'ein Skript anpassen'], ['Akupressur', 'Akupressur', 'Anpassung an Veränderungen im Marketing', 'Anpassung an Änderungen in technologischen Entwicklungsplänen', 'Buchhaltungstechniken', 'Anpassung an Änderungen in technologischen Entwicklungsplänen', 'Farbe hinzufügen', 'ein Skript anpassen', 'Anpassung an Veränderungen im Marketing', 'ein Skript anpassen', 'Anpassung an Änderungen in technologischen Entwicklungsplänen', 'Anpassung an Änderungen in technologischen Entwicklungsplänen', 'Systemkomponente erwerben'], ['Anpassung an Änderungen in technologischen Entwicklungsplänen', 'Anpassung an Änderungen in technologischen Entwicklungsplänen', 'Buchhaltung', 'Buchhaltung', 'Buchhaltung', 'Anpassung an Änderungen in technologischen Entwicklungsplänen', 'Akupressur', 'Anpassung an Änderungen in technologischen Entwicklungsplänen', 'Buchhaltungstechniken', 'Buchhaltungstechniken', 'Systemkomponente erwerben', 'Systemkomponente erwerben', 'Akupressur'], ['Buchhaltungstechniken', 'Buchhaltungstechniken', '3D-Beleuchtung', 'Absorb (Lernmanagementsysteme)', 'ein Skript anpassen', 'Absorb (Lernmanagementsysteme)', 'Buchhaltung', 'Anpassung an Änderungen in technologischen Entwicklungsplänen', 'Systemkomponente erwerben', 'Systemkomponente erwerben', 'Systemkomponente erwerben', 'Systemkomponente erwerben', 'Anpassung an Änderungen in technologischen Entwicklungsplänen', 'Systemkomponente erwerben', 'Systemkomponente erwerben'], ['Anpassung an Änderungen in technologischen Entwicklungsplänen', 'Systemkomponente erwerben', 'Anpassung an Änderungen in technologischen Entwicklungsplänen', 'Buchhaltung', 'Buchhaltung', 'ABAP', 'Absorb (Lernmanagementsysteme)', 'Systemkomponente erwerben', 'Anpassung an Änderungen in technologischen Entwicklungsplänen', 'Anpassung an Änderungen in technologischen Entwicklungsplänen', 'Anpassung an Änderungen in technologischen Entwicklungsplänen', 'Buchhaltungstechniken', 'Präzisionswaffen', 'Absorb (Lernmanagementsysteme)', 'Buchhaltung', 'Buchhaltungstechniken', 'Anpassung an Änderungen in technologischen Entwicklungsplänen', 'Systemkomponente erwerben', 'ein Skript anpassen'], ['Buchhaltungstechniken', 'Buchhaltungstechniken', 'Absorb (Lernmanagementsysteme)', 'ein Skript anpassen', 'Anpassung an Änderungen in technologischen Entwicklungsplänen', 'Anpassung an Änderungen in technologischen Entwicklungsplänen', 'Buchhaltungstechniken', 'ABAP', 'Schauspieltechniken', 'Anpassung an Änderungen in technologischen Entwicklungsplänen', 'Akupressur', 'Anpassung an Änderungen in technologischen Entwicklungsplänen', 'Systemkomponente erwerben', 'Absorb (Lernmanagementsysteme)', 'ABAP', 'ABAP', 'Schauspieltechniken', 'Anpassung an Änderungen in technologischen Entwicklungsplänen', 'Akupressur', 'Anpassung an Änderungen in technologischen Entwicklungsplänen', 'Absorb (Lernmanagementsysteme)', 'Absorb (Lernmanagementsysteme)', 'ABAP', 'Systemkomponente erwerben', 'Systemkomponente erwerben', 'Absorb (Lernmanagementsysteme)', 'ein Skript anpassen', 'Absorb (Lernmanagementsysteme)', 'Anpassung an Änderungen in technologischen Entwicklungsplänen'], ['Buchhaltungstechniken', 'Buchhaltungstechniken', '3D-Texturierung', 'Akupressur', 'Antiquitäten erwerben', 'Sätze anpassen', 'Akupressur', 'Anpassung an Änderungen in technologischen Entwicklungsplänen', 'Anpassung an Änderungen in technologischen Entwicklungsplänen', 'Akupressur', 'Text kulturell anpassen', 'Systemkomponente erwerben', 'Systemkomponente erwerben', 'Systemkomponente erwerben', 'Systemkomponente erwerben', 'Systemkomponente erwerben'], ['Buchhaltungstechniken', 'Akupressur', 'Buchhaltungstechniken', 'Anpassung an Veränderungen im Marketing', 'Anpassung an Veränderungen im Marketing', 'Systemkomponente erwerben', 'ein Skript anpassen', 'Systemkomponente erwerben', 'Anpassung an Veränderungen im Marketing', 'ABAP', 'Buchhaltung', 'Buchhaltungstechniken', 'Systemkomponente erwerben', '3D-Beleuchtung', 'Buchhaltung', 'Computerkomponenten hinzufügen', 'Systemkomponente erwerben', '3D-Beleuchtung', 'Buchhaltung', 'Buchhaltungstechniken', 'Absorb (Lernmanagementsysteme)', 'Systemkomponente erwerben', 'Systemkomponente erwerben', 'Systemkomponente erwerben', 'Systemkomponente erwerben', 'Buchhaltung'], ['Systemkomponente erwerben', 'Systemkomponente erwerben', 'Buchhaltung', '3D-Beleuchtung', 'Buchhaltungstechniken', 'Anpassung an Veränderungen im Marketing', 'Anpassung an Änderungen in technologischen Entwicklungsplänen', 'ABAP', 'Anpassung an Änderungen in technologischen Entwicklungsplänen', 'Buchhaltungstechniken', 'Buchhaltung', 'Buchhaltungstechniken', 'Buchhaltungstechniken', 'Buchhaltungstechniken', 'Systemkomponente erwerben', 'Systemkomponente erwerben'], ['Buchhaltungstechniken', 'Buchhaltungstechniken', 'Buchhaltungstechniken', 'Akupressur', 'Buchhaltungstechniken', 'Absorb (Lernmanagementsysteme)', 'Anpassung an Änderungen in technologischen Entwicklungsplänen', 'Akupressur', 'Systemkomponente erwerben', 'Anpassung an Änderungen in technologischen Entwicklungsplänen', 'Sätze anpassen', 'ein Skript anpassen', 'Sätze anpassen', 'Buchhaltungstechniken', 'ABAP', 'Buchhaltung', 'Systemkomponente erwerben', 'Absorb (Lernmanagementsysteme)', '3D-Beleuchtung', 'Systemkomponente erwerben', 'Systemkomponente erwerben', 'Systemkomponente erwerben', 'Systemkomponente erwerben'], ['Systemkomponente erwerben', 'Systemkomponente erwerben', 'Systemkomponente erwerben', 'Anpassung an Veränderungen im Marketing', 'Akupressur', 'ABAP', 'ABAP', 'Anpassung an Veränderungen im Marketing', 'ABAP', 'Systemkomponente erwerben', 'ABAP', 'Buchhaltung', 'Anpassung an Änderungen in technologischen Entwicklungsplänen', 'Buchhaltung', 'ABAP', 'Absorb (Lernmanagementsysteme)', 'Systemkomponente erwerben', 'Buchhaltungstechniken', 'Anpassung an Änderungen in technologischen Entwicklungsplänen', 'Anpassung an Änderungen in technologischen Entwicklungsplänen', 'Anpassung an Änderungen in technologischen Entwicklungsplänen', 'Anpassung an Änderungen in technologischen Entwicklungsplänen'], ['Anpassung an Änderungen in technologischen Entwicklungsplänen', 'Anpassung an Änderungen in technologischen Entwicklungsplänen', 'Buchhaltungstechniken', 'Systemkomponente erwerben', 'Anpassung an Änderungen in technologischen Entwicklungsplänen', 'Buchhaltung', 'Anpassung an Änderungen in technologischen Entwicklungsplänen', 'Systemkomponente erwerben', 'ein Skript anpassen', 'Anpassung an Änderungen in technologischen Entwicklungsplänen', 'Systemkomponente erwerben', 'Anpassung an Änderungen in technologischen Entwicklungsplänen', 'ABAP', 'Anpassung an Änderungen in technologischen Entwicklungsplänen'], ['Buchhaltungstechniken', 'Buchhaltungstechniken', '3D-Modellierung', 'ABAP', 'ABAP', 'Buchhaltungstechniken', 'Anpassung an Änderungen in technologischen Entwicklungsplänen', 'ein Skript anpassen', 'Anpassung an Änderungen in technologischen Entwicklungsplänen', 'ABAP', 'Buchhaltungstechniken', 'ABAP', 'ABAP', 'ein Skript anpassen', 'Systemkomponente erwerben', 'Akupressur', 'ABAP', 'ABAP', 'Absorb (Lernmanagementsysteme)', 'Buchhaltungstechniken', 'Buchhaltungstechniken', 'Buchhaltungstechniken', 'Systemkomponente erwerben'], ['Buchhaltungstechniken', 'ABAP', 'Anpassung an Änderungen in technologischen Entwicklungsplänen', 'Anpassung an Änderungen in technologischen Entwicklungsplänen', 'Anpassung an Änderungen in technologischen Entwicklungsplänen', 'Buchhaltungstechniken', 'Systemkomponente erwerben', 'Buchhaltungstechniken', 'Systemkomponente erwerben', 'Buchhaltungstechniken', 'Buchhaltungstechniken'], ['Systemkomponente erwerben', 'Systemkomponente erwerben', 'ein Skript anpassen', 'Anpassung an Änderungen in technologischen Entwicklungsplänen', 'ein Skript anpassen', 'Absorb (Lernmanagementsysteme)', 'Anpassung an Änderungen in technologischen Entwicklungsplänen', 'Systemkomponente erwerben', 'ein Skript anpassen', 'Anpassung an Änderungen in technologischen Entwicklungsplänen', 'Absorb (Lernmanagementsysteme)', 'Systemkomponente erwerben', 'Systemkomponente erwerben', 'Systemkomponente erwerben', 'Systemkomponente erwerben', 'Systemkomponente erwerben'], ['Systemkomponente erwerben', 'Systemkomponente erwerben', 'Systemkomponente erwerben', 'Absorb (Lernmanagementsysteme)', 'Farbe hinzufügen', 'Buchhaltung', 'Absorb (Lernmanagementsysteme)', 'Buchhaltungstechniken', 'Buchhaltungstechniken', 'Buchhaltungstechniken', 'Farbe hinzufügen', 'Anpassung an Änderungen in technologischen Entwicklungsplänen', 'Anpassung an Änderungen in technologischen Entwicklungsplänen', 'Buchhaltungstechniken', 'Buchhaltungstechniken', 'Anpassung an Änderungen in technologischen Entwicklungsplänen', 'Buchhaltungstechniken', 'Anpassung an Änderungen in technologischen Entwicklungsplänen'], ['Buchhaltungstechniken', 'Buchhaltungstechniken', 'Anpassung an Änderungen in technologischen Entwicklungsplänen', 'Buchhaltungstechniken', '3D-Beleuchtung', 'ABAP'], ['ein Skript anpassen', 'ein Skript anpassen', 'Buchhaltung', 'ein Skript anpassen', 'Buchhaltung', 'Anpassung an Veränderungen im Marketing', 'ein Skript anpassen', 'Akupressur', 'Anpassung an Änderungen in technologischen Entwicklungsplänen', 'Anpassung an Änderungen in technologischen Entwicklungsplänen', 'Anpassung an Änderungen in technologischen Entwicklungsplänen', 'Buchhaltungstechniken'], ['ein Skript anpassen', 'ein Skript anpassen', 'ein Skript anpassen', 'Requisiten anpassen', 'Requisiten anpassen', '3D-Beleuchtung', 'Akupressur', 'Akupressur', 'Anpassung an Änderungen in technologischen Entwicklungsplänen', 'Buchhaltungstechniken', 'ABAP', 'Absorb (Lernmanagementsysteme)', 'Buchhaltung', 'Anpassung an Änderungen in technologischen Entwicklungsplänen', 'Anpassung an Änderungen in technologischen Entwicklungsplänen', 'Fitnessübungen anpassen', 'ein Skript anpassen', 'Absorb (Lernmanagementsysteme)'], ['Systemkomponente erwerben', 'Systemkomponente erwerben', 'ABAP', '3D-Beleuchtung', 'Anpassung an Veränderungen im Marketing', 'Anpassung an Änderungen in technologischen Entwicklungsplänen', 'Systemkomponente erwerben', 'Anpassung an Änderungen in technologischen Entwicklungsplänen', 'Anpassung an Änderungen in technologischen Entwicklungsplänen', 'ein Skript anpassen', 'Absorb (Lernmanagementsysteme)'], ['Systemkomponente erwerben', 'Systemkomponente erwerben', 'Akupressur', 'ABAP', 'ABAP', 'ABAP', 'ABAP', 'Anpassung an Änderungen in technologischen Entwicklungsplänen', 'Anpassung an Änderungen in technologischen Entwicklungsplänen', 'Anpassung an Änderungen in technologischen Entwicklungsplänen', 'Anpassung an Änderungen in technologischen Entwicklungsplänen', 'Anpassung an Änderungen in technologischen Entwicklungsplänen', 'Anpassung an Änderungen in technologischen Entwicklungsplänen', 'Buchhaltungstechniken', 'Buchhaltungstechniken', 'Buchhaltungstechniken', 'Buchhaltungstechniken', 'Buchhaltungstechniken', 'Buchhaltungstechniken', 'Buchhaltungstechniken'], ['Farbe hinzufügen', 'Requisiten anpassen', 'Buchhaltung', 'Farbe hinzufügen', 'Requisiten anpassen', 'Buchhaltung', 'ABAP', 'ABAP', '3D-Beleuchtung', 'Anpassung an Änderungen in technologischen Entwicklungsplänen', 'Buchhaltungstechniken', 'Anpassung an Veränderungen im Marketing'], ['ein Skript anpassen', 'ein Skript anpassen', 'Buchhaltung', 'Buchhaltungstechniken', 'Buchhaltung', 'ABAP', 'Anpassung an Änderungen in technologischen Entwicklungsplänen', 'Buchhaltungstechniken', 'Buchhaltungstechniken', 'Systemkomponente erwerben', 'Absorb (Lernmanagementsysteme)', 'Buchhaltungstechniken', 'Systemkomponente erwerben', 'Buchhaltung', 'Buchhaltungstechniken'], ['Akupressur', 'Akupressur', 'Systemkomponente erwerben', 'ABAP', 'Systemkomponente erwerben', 'Absorb (Lernmanagementsysteme)', 'ein Skript anpassen', 'Hörtests anpassen', 'Systemkomponente erwerben', 'ABAP', 'Buchhaltung', 'Absorb (Lernmanagementsysteme)', 'Absorb (Lernmanagementsysteme)', 'Absorb (Lernmanagementsysteme)', 'Anpassung an Änderungen in technologischen Entwicklungsplänen', 'Absorb (Lernmanagementsysteme)'], ['Buchhaltungstechniken', 'Buchhaltungstechniken', 'Systemkomponente erwerben', 'Absorb (Lernmanagementsysteme)', 'Requisiten anpassen', 'Anpassung an Änderungen in technologischen Entwicklungsplänen', 'Anpassung an Änderungen in technologischen Entwicklungsplänen', 'Buchhaltung', 'Systemkomponente erwerben', 'Buchhaltungstechniken', 'Buchhaltungstechniken', 'Anpassung an Änderungen in technologischen Entwicklungsplänen'], ['Buchhaltungstechniken', 'Buchhaltungstechniken', 'Buchhaltung', 'Absorb (Lernmanagementsysteme)', 'Absorb (Lernmanagementsysteme)', 'ABAP', 'ein Skript anpassen', 'Anpassung an Änderungen in technologischen Entwicklungsplänen', 'ABAP', 'Buchhaltung', 'Systemkomponente erwerben', 'Absorb (Lernmanagementsysteme)', 'Buchhaltungstechniken', 'Buchhaltungstechniken', 'Anpassung an Änderungen in technologischen Entwicklungsplänen', 'ein Skript anpassen', 'Absorb (Lernmanagementsysteme)', 'Buchhaltungstechniken', 'Systemkomponente erwerben', 'Buchhaltungstechniken'], ['Akupressur', 'Buchhaltung', 'Akupressur', 'Buchhaltung', 'Anpassung an Änderungen in technologischen Entwicklungsplänen', 'ABAP', 'ABAP', 'Anpassung an Änderungen in technologischen Entwicklungsplänen', 'Buchhaltungstechniken', 'Absorb (Lernmanagementsysteme)', 'Buchhaltungstechniken', 'Absorb (Lernmanagementsysteme)', 'Buchhaltungstechniken', 'Absorb (Lernmanagementsysteme)'], ['Systemkomponente erwerben', 'Systemkomponente erwerben', 'Buchhaltung', 'Anpassung an Änderungen in technologischen Entwicklungsplänen', 'Systemkomponente erwerben', 'Anpassung an Änderungen in technologischen Entwicklungsplänen', 'Anpassung an Änderungen in technologischen Entwicklungsplänen', 'Anpassung an Änderungen in technologischen Entwicklungsplänen', 'Systemkomponente erwerben', 'Systemkomponente erwerben'], ['Absorb (Lernmanagementsysteme)', 'Absorb (Lernmanagementsysteme)', 'ein Skript anpassen', 'Anpassung an Änderungen in technologischen Entwicklungsplänen', 'Anpassung an Änderungen in technologischen Entwicklungsplänen', 'Anpassung an Änderungen in technologischen Entwicklungsplänen', 'Anpassung an Änderungen in technologischen Entwicklungsplänen', 'Anpassung an Änderungen in technologischen Entwicklungsplänen', 'Anpassung an Änderungen in technologischen Entwicklungsplänen', 'Absorb (Lernmanagementsysteme)', 'Farbe hinzufügen', 'Anpassung an Änderungen in technologischen Entwicklungsplänen', 'Absorb (Lernmanagementsysteme)', 'Systemkomponente erwerben'], ['Buchhaltung', 'Buchhaltung', 'Akupressur', 'Buchhaltungstechniken', 'Akupressur', 'Anpassung an Änderungen in technologischen Entwicklungsplänen', 'Anpassung an Änderungen in technologischen Entwicklungsplänen', 'Hörtests anpassen', 'ABAP', 'ABAP', 'ein Skript anpassen', 'Anpassung an Änderungen in technologischen Entwicklungsplänen', 'Anpassung an Änderungen in technologischen Entwicklungsplänen', 'Anpassung an Änderungen in technologischen Entwicklungsplänen', 'Akupressur', 'Hörtests anpassen', 'Akupressur', 'Systemkomponente erwerben', 'Absorb (Lernmanagementsysteme)', 'Absorb (Lernmanagementsysteme)', 'Systemkomponente erwerben', 'Systemkomponente erwerben', 'Buchhaltungstechniken'], ['Anpassung an Änderungen in technologischen Entwicklungsplänen', 'Akupressur', 'Akupressur', 'ABAP', 'Akupressur', 'ABAP', 'Systemkomponente erwerben', 'ein Skript anpassen', 'Systemkomponente erwerben', 'Buchhaltungstechniken', 'Systemkomponente erwerben'], ['Buchhaltungstechniken', 'Buchhaltungstechniken', 'Buchhaltung', 'Buchhaltungstechniken', 'Akupressur', 'Buchhaltung', 'Anpassung an Änderungen in technologischen Entwicklungsplänen', 'Buchhaltungstechniken', 'Anpassung an Änderungen in technologischen Entwicklungsplänen', 'Anpassung an Änderungen in technologischen Entwicklungsplänen', 'Systemkomponente erwerben', 'Buchhaltungstechniken', 'Absorb (Lernmanagementsysteme)', 'Absorb (Lernmanagementsysteme)', 'Absorb (Lernmanagementsysteme)', 'Absorb (Lernmanagementsysteme)', 'Anpassung an Änderungen in technologischen Entwicklungsplänen', 'Absorb (Lernmanagementsysteme)', 'Buchhaltungstechniken'], ['Anpassung an Änderungen in technologischen Entwicklungsplänen', 'Anpassung an Änderungen in technologischen Entwicklungsplänen', 'Schauspieltechniken', 'Schauspieltechniken', 'ABAP', 'Akupressur', 'Anpassung an Änderungen in technologischen Entwicklungsplänen', 'Schauspieltechniken', 'Akupressur', 'Absorb (Lernmanagementsysteme)', 'Systemkomponente erwerben'], ['Farbe hinzufügen', 'Absorb (Lernmanagementsysteme)', 'Farbe hinzufügen', 'Absorb (Lernmanagementsysteme)', 'Anpassung an Änderungen in technologischen Entwicklungsplänen', '3D-Beleuchtung', 'Anpassung an Änderungen in technologischen Entwicklungsplänen', 'Systemkomponente erwerben'], ['Prozesse der Buchhaltungsabteilung', 'Buchhaltung', 'Buchhaltungstechniken', 'ABAP', 'Buchhaltungstechniken', 'Akupressur', 'ABAP', 'Akupressur', 'ABAP', 'Akupressur', 'Akupressur', 'Buchhaltungstechniken', 'ABAP', 'ABAP', 'Buchhaltung', 'Requisiten anpassen', 'Buchhaltungstechniken', 'Absorb (Lernmanagementsysteme)', 'Buchhaltungstechniken', 'Farbe hinzufügen', 'Anpassung an Veränderungen im Marketing', 'Akupressur', 'Anpassung an Änderungen in technologischen Entwicklungsplänen', 'Akupressur', 'ein Skript anpassen', 'Systemkomponente erwerben', 'Buchhaltungstechniken', 'Buchhaltung', 'Absorb (Lernmanagementsysteme)', 'Anpassung an Änderungen in technologischen Entwicklungsplänen', '3D-Texturierung', 'Prozesse der Buchhaltungsabteilung', 'Buchhaltung', 'Buchhaltungstechniken', 'Buchhaltungstechniken', 'Akupressur', 'Akupressur', 'ABAP', 'Anpassung an Veränderungen im Marketing', 'Systemkomponente erwerben', 'ein Skript anpassen', 'Absorb (Lernmanagementsysteme)'], ['Absorb (Lernmanagementsysteme)', 'Absorb (Lernmanagementsysteme)', 'ABAP', 'Computerkomponenten hinzufügen', 'ABAP', 'ein Skript anpassen', 'ABAP', 'Absorb (Lernmanagementsysteme)', 'ABAP', 'Anpassung an Änderungen in technologischen Entwicklungsplänen', 'Anpassung an Änderungen in technologischen Entwicklungsplänen', 'ABAP', 'Sätze anpassen', 'Akupressur', 'Akupressur', 'Absorb (Lernmanagementsysteme)', 'ein Skript anpassen', 'ein Skript anpassen', 'Absorb (Lernmanagementsysteme)'], ['Systemkomponente erwerben', 'Systemkomponente erwerben', 'Buchhaltung', 'Buchhaltung', 'ABAP', 'Anpassung an Änderungen in technologischen Entwicklungsplänen', 'Absorb (Lernmanagementsysteme)', 'Anpassung an Änderungen in technologischen Entwicklungsplänen', 'Buchhaltungstechniken'], ['Buchhaltungstechniken', 'Buchhaltungstechniken', 'Anpassung an Veränderungen im Marketing', 'Systemkomponente erwerben', 'ein Skript anpassen', 'ein Skript anpassen', 'Buchhaltungstechniken', 'Systemkomponente erwerben', 'Anpassung an Veränderungen im Marketing', 'ein Skript anpassen', 'zuverlässig handeln', 'Systemkomponente erwerben', 'Absorb (Lernmanagementsysteme)', '3D-Druckverfahren', 'Buchhaltungstechniken', 'Absorb (Lernmanagementsysteme)', 'Akupressur', 'Buchhaltung', 'Absorb (Lernmanagementsysteme)', 'Systemkomponente erwerben', 'Absorb (Lernmanagementsysteme)'], ['Buchhaltungstechniken', 'Buchhaltungstechniken', 'Akutversorgung', 'Systemkomponente erwerben', 'ein Skript anpassen', 'Anpassung an Änderungen in technologischen Entwicklungsplänen', 'Anpassung an Änderungen in technologischen Entwicklungsplänen', 'Anpassung an Änderungen in technologischen Entwicklungsplänen', 'Anpassung an Änderungen in technologischen Entwicklungsplänen', 'Systemkomponente erwerben', 'Absorb (Lernmanagementsysteme)', 'Systemkomponente erwerben', 'Buchhaltungstechniken', 'Systemkomponente erwerben', 'Systemkomponente erwerben', 'Anpassung an Änderungen in technologischen Entwicklungsplänen', 'Anpassung an Änderungen in technologischen Entwicklungsplänen', 'Systemkomponente erwerben'], ['Systemkomponente erwerben', 'Buchhaltungstechniken', 'Sätze anpassen', 'Systemkomponente erwerben', 'ein Skript anpassen', 'Systemkomponente erwerben', '3D-Beleuchtung', 'Systemkomponente erwerben', 'ein Skript anpassen', 'Anpassung an Veränderungen im Marketing', 'Anpassung an Änderungen in technologischen Entwicklungsplänen', 'Buchhaltungstechniken', 'Anpassung an Änderungen in technologischen Entwicklungsplänen', 'Systemkomponente erwerben', 'Akupressur', 'Akupressur', 'Buchhaltungstechniken', 'Systemkomponente erwerben', 'zuverlässig handeln', 'ein Skript anpassen', 'ein Skript anpassen', 'Akupressur', 'Buchhaltung', 'Absorb (Lernmanagementsysteme)', 'Anpassung an Änderungen in technologischen Entwicklungsplänen', 'Systemkomponente erwerben', 'Systemkomponente erwerben', 'Buchhaltungstechniken'], ['Anpassung an Veränderungen im Marketing', 'ABAP', 'Anpassung an Änderungen in technologischen Entwicklungsplänen', 'ein Skript anpassen', 'Anpassung an Änderungen in technologischen Entwicklungsplänen', 'Anpassung an Änderungen in technologischen Entwicklungsplänen', 'Anpassung an Änderungen in technologischen Entwicklungsplänen', 'Absorb (Lernmanagementsysteme)', 'Anpassung an Veränderungen im Marketing', 'Systemkomponente erwerben', 'ein Skript anpassen', 'ein Skript anpassen'], ['ein Skript anpassen', 'ABAP', 'ABAP', 'Anpassung an Änderungen in technologischen Entwicklungsplänen', 'Anpassung an Änderungen in technologischen Entwicklungsplänen', 'Anpassung an Änderungen in technologischen Entwicklungsplänen', 'Anpassung an Änderungen in technologischen Entwicklungsplänen', 'ABAP', 'Anpassung an Änderungen in technologischen Entwicklungsplänen', 'Anpassung an Änderungen in technologischen Entwicklungsplänen', 'Anpassung an Änderungen in technologischen Entwicklungsplänen', 'Anpassung an Änderungen in technologischen Entwicklungsplänen', 'Systemkomponente erwerben', 'Anpassung an Veränderungen im Marketing', 'Absorb (Lernmanagementsysteme)', 'Systemkomponente erwerben', 'Absorb (Lernmanagementsysteme)'], ['Anpassung an Änderungen in technologischen Entwicklungsplänen', 'Anpassung an Änderungen in technologischen Entwicklungsplänen', 'Systemkomponente erwerben', 'ABAP', '3D-Druckverfahren', 'ABAP', 'Anpassung an Änderungen in technologischen Entwicklungsplänen', 'Schauspiel- und Regietechniken', 'Anpassung an Änderungen in technologischen Entwicklungsplänen', 'Buchhaltung', 'Schauspieltechniken', 'ein Skript anpassen', 'ein Skript anpassen'], ['Buchhaltungstechniken', 'Buchhaltungstechniken', 'ein Skript anpassen', 'Farbe hinzufügen', 'Anpassung an Änderungen in technologischen Entwicklungsplänen', 'Absorb (Lernmanagementsysteme)', '3D-Beleuchtung', 'Buchhaltungstechniken', 'ein Skript anpassen', 'Buchhaltung', 'Anpassung an Änderungen in technologischen Entwicklungsplänen', 'Anpassung an Änderungen in technologischen Entwicklungsplänen', 'Buchhaltungstechniken', 'Systemkomponente erwerben', 'Buchhaltungstechniken', 'Buchhaltungstechniken', 'Systemkomponente erwerben'], ['Buchhaltung', 'ABAP', 'Buchhaltung', 'Anpassung an Veränderungen im Marketing', 'Schauspieltechniken', 'Anpassung an Änderungen in technologischen Entwicklungsplänen', 'Akupressur', 'Absorb (Lernmanagementsysteme)', 'Anpassung an Änderungen in technologischen Entwicklungsplänen', 'Anpassung an Änderungen in technologischen Entwicklungsplänen', 'Absorb (Lernmanagementsysteme)', 'Absorb (Lernmanagementsysteme)', 'Buchhaltungstechniken', 'Buchhaltungstechniken', 'Buchhaltungstechniken'], ['Absorb (Lernmanagementsysteme)', 'Absorb (Lernmanagementsysteme)', 'Absorb (Lernmanagementsysteme)', 'Absorb (Lernmanagementsysteme)', 'Anpassung an Änderungen in technologischen Entwicklungsplänen', 'ein Skript anpassen', 'Buchhaltungstechniken', 'Akupressur', 'Absorb (Lernmanagementsysteme)', 'Absorb (Lernmanagementsysteme)', 'Absorb (Lernmanagementsysteme)', 'Absorb (Lernmanagementsysteme)', 'Anpassung an Änderungen in technologischen Entwicklungsplänen', 'Absorb (Lernmanagementsysteme)', 'Buchhaltungstechniken'], ['Systemkomponente erwerben', 'Systemkomponente erwerben', 'ein Skript anpassen', 'Anpassung an Änderungen in technologischen Entwicklungsplänen', 'Anpassung an Änderungen in technologischen Entwicklungsplänen', 'Akustiktechnik', '3D-Modellierung', 'Anpassung an Änderungen in technologischen Entwicklungsplänen', 'Buchhaltungstechniken', 'Anpassung an Änderungen in technologischen Entwicklungsplänen', 'Buchhaltung', 'Buchhaltungstechniken', 'Buchhaltungstechniken', 'Absorb (Lernmanagementsysteme)', 'Absorb (Lernmanagementsysteme)', 'ein Skript anpassen', 'ein Skript anpassen', 'Buchhaltungstechniken', 'Buchhaltungstechniken'], ['Systemkomponente erwerben', 'Systemkomponente erwerben', 'Buchhaltungstechniken', 'Anpassung an Veränderungen im Marketing', 'Anpassung an Änderungen in technologischen Entwicklungsplänen', 'Buchhaltungstechniken', 'Akupressur', 'Buchhaltungstechniken', 'Absorb (Lernmanagementsysteme)', 'Absorb (Lernmanagementsysteme)', 'ein Skript anpassen', 'Buchhaltungstechniken', 'ein Skript anpassen', 'Absorb (Lernmanagementsysteme)', 'Systemkomponente erwerben', 'Absorb (Lernmanagementsysteme)', 'Buchhaltungstechniken', 'Absorb (Lernmanagementsysteme)'], ['Buchhaltung', 'Buchhaltung', 'ein Skript anpassen', 'Akupressur', 'Buchhaltung', 'ABAP', 'Anpassung an Änderungen in technologischen Entwicklungsplänen', 'Farbe hinzufügen', 'Buchhaltungstechniken', 'Akupressur', 'ABAP', 'Akupressur', 'Buchhaltung', 'ein Skript anpassen', 'Systemkomponente erwerben', 'Absorb (Lernmanagementsysteme)', 'ein Skript anpassen', 'Absorb (Lernmanagementsysteme)', 'Prozesse der Buchhaltungsabteilung', 'ein Skript anpassen', 'ein Skript anpassen', 'Absorb (Lernmanagementsysteme)', 'Absorb (Lernmanagementsysteme)', 'Systemkomponente erwerben', 'Systemkomponente erwerben'], ['Anpassung an Änderungen in technologischen Entwicklungsplänen', 'Anpassung an Änderungen in technologischen Entwicklungsplänen', 'Buchhaltungstechniken', 'Akupressur', 'Anpassung an Änderungen in technologischen Entwicklungsplänen', 'Buchhaltungstechniken', 'Absorb (Lernmanagementsysteme)', 'Anpassung an Veränderungen auf einem Boot', 'Anpassung an Änderungen in technologischen Entwicklungsplänen', 'Anpassung an Änderungen in technologischen Entwicklungsplänen', 'Systemkomponente erwerben', 'Anpassung an Änderungen in technologischen Entwicklungsplänen', 'Systemkomponente erwerben', 'Anpassung an Änderungen in technologischen Entwicklungsplänen', 'Buchhaltungstechniken', 'Buchhaltungstechniken', 'ein Skript anpassen', 'ein Skript anpassen', 'Absorb (Lernmanagementsysteme)', 'Akupressur', 'Systemkomponente erwerben', 'Systemkomponente erwerben'], ['Absorb (Lernmanagementsysteme)', 'Absorb (Lernmanagementsysteme)', 'Anpassung an Veränderungen im Marketing', 'ABAP', 'Hörtests anpassen', 'Buchhaltungstechniken', 'Anpassung an Änderungen in technologischen Entwicklungsplänen', 'ABAP', 'Sätze anpassen', 'Anpassung an Veränderungen in der Forstwirtschaft', 'Systemkomponente erwerben', 'Absorb (Lernmanagementsysteme)', 'Anpassung an Änderungen in technologischen Entwicklungsplänen', 'Absorb (Lernmanagementsysteme)', 'ABAP', 'ABAP', 'Akupressur', 'Buchhaltungstechniken', 'Systemkomponente erwerben', 'Systemkomponente erwerben', 'Anpassung an Änderungen in technologischen Entwicklungsplänen', 'Systemkomponente erwerben', 'Systemkomponente erwerben', 'Systemkomponente erwerben'], ['ein Skript anpassen', 'Systemkomponente erwerben', 'ein Skript anpassen', 'Systemkomponente erwerben', 'ein Skript anpassen', '3D-Beleuchtung', 'Buchhaltungstechniken', 'Anpassung an Änderungen in technologischen Entwicklungsplänen', 'Buchhaltung', 'Buchhaltungstechniken', 'Akupressur', 'Anpassung an Änderungen in technologischen Entwicklungsplänen', 'Anpassung an Änderungen in technologischen Entwicklungsplänen', 'ein Skript anpassen', 'Akupressur', 'Akupressur', 'ein Skript anpassen', 'Buchhaltung', 'ein Skript anpassen', 'Schauspieltechniken', 'Systemkomponente erwerben', 'Buchhaltungstechniken', 'ein Skript anpassen', 'ein Skript anpassen'], ['Buchhaltungstechniken', 'Buchhaltungstechniken', 'ABAP', 'Akupressur', 'Anpassung an Veränderungen im Marketing', 'Anpassung an Änderungen in technologischen Entwicklungsplänen', 'Anpassung an Änderungen in technologischen Entwicklungsplänen', 'Anpassung an Änderungen in technologischen Entwicklungsplänen', 'Absorb (Lernmanagementsysteme)', 'ein Skript anpassen', 'Anpassung an Änderungen in technologischen Entwicklungsplänen', '3D-Beleuchtung', 'Buchhaltungstechniken', 'Buchhaltungstechniken', 'ein Skript anpassen', 'Buchhaltungstechniken'], ['Systemkomponente erwerben', 'Systemkomponente erwerben', '3D-Modellierung', 'Anpassung an Veränderungen im Marketing', 'Buchhaltung', 'Absorb (Lernmanagementsysteme)', 'Buchhaltungstechniken', 'Buchhaltungstechniken', 'ABAP', 'ABAP', 'ABAP', 'Akupressur', 'Anpassung an Änderungen in technologischen Entwicklungsplänen', 'Anpassung an Änderungen in technologischen Entwicklungsplänen', 'Buchhaltungstechniken', 'Systemkomponente erwerben', 'Absorb (Lernmanagementsysteme)'], ['ein Skript anpassen', 'Buchhaltung', 'ein Skript anpassen', 'ABAP', 'Buchhaltungstechniken', 'Schauspieltechniken', 'Systemkomponente erwerben', 'Anpassung an Änderungen in technologischen Entwicklungsplänen', 'Akupressur', 'Buchhaltung', 'Buchhaltung', 'Buchhaltung', 'Absorb (Lernmanagementsysteme)', 'Buchhaltungstechniken', 'Systemkomponente erwerben', 'Buchhaltungstechniken', 'Buchhaltungstechniken', 'Systemkomponente erwerben', 'Anpassung an Änderungen in technologischen Entwicklungsplänen', 'Akupressur', 'Buchhaltungstechniken'], ['Absorb (Lernmanagementsysteme)', 'Absorb (Lernmanagementsysteme)', 'ABAP', 'ABAP', 'Buchhaltungstechniken', 'ein Skript anpassen', 'Anpassung an Änderungen in technologischen Entwicklungsplänen', 'Anpassung an Änderungen in technologischen Entwicklungsplänen', 'Absorb (Lernmanagementsysteme)', 'Buchhaltungstechniken', 'Systemkomponente erwerben', 'ABAP', 'ein Skript anpassen', 'Absorb (Lernmanagementsysteme)', 'Buchhaltung', 'Akupressur', 'Buchhaltung', 'Buchhaltung', 'Systemkomponente erwerben', 'Systemkomponente erwerben', 'Absorb (Lernmanagementsysteme)', 'Systemkomponente erwerben', 'Systemkomponente erwerben'], ['Systemkomponente erwerben', 'Systemkomponente erwerben', 'Systemkomponente erwerben', 'Buchhaltungstechniken', 'Anpassung an Änderungen in technologischen Entwicklungsplänen', '3D-Beleuchtung', 'Anpassung an Änderungen in technologischen Entwicklungsplänen', 'Hinzufügen von Spulen zu Keramikarbeiten', 'Buchhaltungstechniken', 'Buchhaltungstechniken', 'Anpassung an Änderungen in technologischen Entwicklungsplänen', 'Buchhaltung', 'Buchhaltungstechniken', 'Systemkomponente erwerben', 'Anpassung an Änderungen in technologischen Entwicklungsplänen', 'Buchhaltung', 'Akupressur', 'Buchhaltung', 'Anpassung an Änderungen in technologischen Entwicklungsplänen'], ['Absorb (Lernmanagementsysteme)', 'Anpassung an Änderungen in technologischen Entwicklungsplänen', 'Absorb (Lernmanagementsysteme)', 'ABAP', 'ABAP', 'ABAP', 'ABAP', 'Sätze anpassen', 'Absorb (Lernmanagementsysteme)', 'Anpassung an Änderungen in technologischen Entwicklungsplänen', 'Anpassung an Änderungen in technologischen Entwicklungsplänen', 'ABAP', 'Anpassung an Änderungen in technologischen Entwicklungsplänen', 'Absorb (Lernmanagementsysteme)', 'Farbe hinzufügen', 'Buchhaltung', 'Buchhaltung', 'Buchhaltungstechniken', 'Systemkomponente erwerben', 'Absorb (Lernmanagementsysteme)', 'Absorb (Lernmanagementsysteme)', 'Systemkomponente erwerben'], ['Buchhaltungstechniken', 'ABAP', 'Akupressur', 'Anpassung an Änderungen in technologischen Entwicklungsplänen', 'Buchhaltungstechniken', 'Buchhaltung', 'Buchhaltungstechniken', 'Akupressur', 'Anpassung an Änderungen in technologischen Entwicklungsplänen', 'Anpassung an Änderungen in technologischen Entwicklungsplänen', 'Anpassung an Änderungen in technologischen Entwicklungsplänen', 'ein Skript anpassen', 'ABAP', 'Akupressur', 'Akupressur', 'Anpassung an Änderungen in technologischen Entwicklungsplänen', 'ein Skript anpassen', 'Anpassung an Änderungen in technologischen Entwicklungsplänen'], ['ein Skript anpassen', 'Präzisionswaffen', 'Buchhaltungstechniken', 'Prozesse der Buchhaltungsabteilung', 'Anpassung an Änderungen in technologischen Entwicklungsplänen', 'Schauspieltechniken', 'Sätze anpassen', 'ein Skript anpassen', 'Anpassung an Änderungen in technologischen Entwicklungsplänen', 'Anpassung an Änderungen in technologischen Entwicklungsplänen', 'Anpassung an Änderungen in technologischen Entwicklungsplänen', 'Anpassung an Änderungen in technologischen Entwicklungsplänen', 'Anpassung an Änderungen in technologischen Entwicklungsplänen', 'Anpassung an Änderungen in technologischen Entwicklungsplänen', 'Anpassung an Änderungen in technologischen Entwicklungsplänen', 'Anpassung an Änderungen in technologischen Entwicklungsplänen', 'Anpassung an Änderungen in technologischen Entwicklungsplänen', 'Anpassung an Änderungen in technologischen Entwicklungsplänen'], ['Systemkomponente erwerben', 'Systemkomponente erwerben', 'Anpassung an Änderungen in technologischen Entwicklungsplänen', 'Anpassung an Änderungen in technologischen Entwicklungsplänen', 'Anpassung an Änderungen in technologischen Entwicklungsplänen', 'ein Skript anpassen', 'Absorb (Lernmanagementsysteme)', '3D-Beleuchtung', 'Systemkomponente erwerben', 'Systemkomponente erwerben'], ['Buchhaltungstechniken', 'Buchhaltungstechniken', 'Systemkomponente erwerben', 'Akupressur', 'Absorb (Lernmanagementsysteme)', 'Anpassung an Änderungen in technologischen Entwicklungsplänen', 'ABAP', 'Hörtests anpassen', 'Akupressur', '3D-Texturierung', 'Hörtests anpassen', 'Anpassung an Änderungen in technologischen Entwicklungsplänen', 'ein Skript anpassen', 'ein Skript anpassen', 'Anpassung an Änderungen in technologischen Entwicklungsplänen', '3D-Beleuchtung', 'Anpassung an Änderungen in technologischen Entwicklungsplänen', 'Akupressur', 'Absorb (Lernmanagementsysteme)', 'ABAP', 'Buchhaltung', 'ABAP', 'Buchhaltungstechniken', 'Buchhaltungstechniken'], ['Absorb (Lernmanagementsysteme)', 'Anpassung an Änderungen in technologischen Entwicklungsplänen', 'Absorb (Lernmanagementsysteme)', 'ABAP', 'ABAP', 'Anpassung an Änderungen in technologischen Entwicklungsplänen', 'Anpassung an Änderungen in technologischen Entwicklungsplänen', 'Anpassung an Änderungen in technologischen Entwicklungsplänen', 'Buchhaltung', 'Anpassung an Änderungen in technologischen Entwicklungsplänen', 'Akupressur', 'Buchhaltungstechniken'], ['Buchhaltungstechniken', 'Buchhaltung', 'Buchhaltungstechniken', 'Anpassung an Änderungen in technologischen Entwicklungsplänen', 'Systemkomponente erwerben', 'ABAP', 'ABAP', 'Buchhaltung', 'Akupressur', 'Anpassung an Änderungen in technologischen Entwicklungsplänen', 'ein Skript anpassen', 'ein Skript anpassen', 'Sätze anpassen', 'ein Skript anpassen', 'Buchhaltungstechniken', 'Buchhaltungstechniken', 'Buchhaltungstechniken', 'Buchhaltungstechniken', 'Buchhaltungstechniken'], ['Buchhaltungstechniken', 'Buchhaltungstechniken', 'Prozesse der Buchhaltungsabteilung', 'Schauspieltechniken', 'ABAP', 'Anpassung an Änderungen in technologischen Entwicklungsplänen', 'Systemkomponente erwerben', 'ABAP', 'Anpassung an Änderungen in technologischen Entwicklungsplänen', 'Absorb (Lernmanagementsysteme)', 'Farbe hinzufügen', 'Buchhaltungstechniken', 'Absorb (Lernmanagementsysteme)', 'Systemkomponente erwerben', 'Prozesse der Buchhaltungsabteilung'], ['Systemkomponente erwerben', 'Hörtests anpassen', 'Systemkomponente erwerben', 'Systemkomponente erwerben', 'Systemkomponente erwerben', 'Hörtests anpassen', 'Akupressur', 'Buchhaltungstechniken', 'Akupressur', 'Buchhaltung', 'Buchhaltungstechniken', 'Anpassung an Änderungen in technologischen Entwicklungsplänen', 'Anpassung an Änderungen in technologischen Entwicklungsplänen', 'Systemkomponente erwerben', 'Anpassung an Veränderungen im Marketing', 'ABAP', 'Anpassung an Änderungen in technologischen Entwicklungsplänen', 'Systemkomponente erwerben', 'Anpassung an Änderungen in technologischen Entwicklungsplänen', 'Systemkomponente erwerben', 'Anpassung an Änderungen in technologischen Entwicklungsplänen', 'Anpassung an Änderungen in technologischen Entwicklungsplänen', 'Anpassung an Änderungen in technologischen Entwicklungsplänen', 'Systemkomponente erwerben', 'Systemkomponente erwerben'], ['Systemkomponente erwerben', 'Systemkomponente erwerben', 'Anpassung an Änderungen in technologischen Entwicklungsplänen', '3D-Beleuchtung', 'Akupressur', 'ABAP', 'Absorb (Lernmanagementsysteme)', 'Buchhaltungstechniken', 'Anpassung an Änderungen in technologischen Entwicklungsplänen', 'Buchhaltungstechniken', 'Anpassung an Änderungen in technologischen Entwicklungsplänen', 'Anpassung an Änderungen in technologischen Entwicklungsplänen', 'Absorb (Lernmanagementsysteme)', '3D-Beleuchtung', 'Systemkomponente erwerben', 'Systemkomponente erwerben', 'Buchhaltungstechniken', 'Buchhaltungstechniken', 'Absorb (Lernmanagementsysteme)', 'Systemkomponente erwerben', 'Systemkomponente erwerben'], ['Anpassung an Änderungen in technologischen Entwicklungsplänen', 'Anpassung an Änderungen in technologischen Entwicklungsplänen', 'Buchhaltung', 'Akupressur', 'ABAP', 'Farbe hinzufügen', 'Akupressur', 'Sätze anpassen', 'Anpassung an Änderungen in technologischen Entwicklungsplänen', 'Systemkomponente erwerben', 'Absorb (Lernmanagementsysteme)', 'Anpassung an Änderungen in technologischen Entwicklungsplänen', 'Buchhaltungstechniken', 'Anpassung an Änderungen in technologischen Entwicklungsplänen', 'ein Skript anpassen'], ['Buchhaltungstechniken', 'Buchhaltungstechniken', 'ein Skript anpassen', 'Akupressur', 'Akupressur', 'Buchhaltung', 'Buchhaltung', '3D-Modellierung', 'Akutversorgung', 'Absorb (Lernmanagementsysteme)', 'ein Skript anpassen'], ['Buchhaltungstechniken', 'Buchhaltungstechniken', 'ein Skript anpassen', 'ein Skript anpassen', 'Buchhaltungstechniken', 'ABAP', 'Buchhaltungstechniken', 'ABAP', 'Absorb (Lernmanagementsysteme)', 'Anpassung an Änderungen in technologischen Entwicklungsplänen', 'Anpassung an Änderungen in technologischen Entwicklungsplänen', 'Anpassung an Änderungen in technologischen Entwicklungsplänen', 'Absorb (Lernmanagementsysteme)', 'Absorb (Lernmanagementsysteme)', 'Akupressur', 'Buchhaltungstechniken'], ['ein Skript anpassen', 'Absorb (Lernmanagementsysteme)', 'ein Skript anpassen', 'Absorb (Lernmanagementsysteme)', 'Buchhaltung', 'Buchhaltung', 'Buchhaltung', 'Absorb (Lernmanagementsysteme)', 'Buchhaltungstechniken', 'Buchhaltungstechniken', 'Systemkomponente erwerben', 'Systemkomponente erwerben', 'ein Skript anpassen', 'Systemkomponente erwerben', 'Buchhaltung', 'Absorb (Lernmanagementsysteme)', 'Buchhaltung', 'ein Skript anpassen', 'ein Skript anpassen', 'Buchhaltung'], ['Buchhaltungstechniken', 'Buchhaltungstechniken', 'Absorb (Lernmanagementsysteme)', 'Buchhaltungstechniken', 'ABAP', 'Akupressur', 'Buchhaltungstechniken', 'Akupressur', 'Systemkomponente erwerben', 'Schauspieltechniken', 'Buchhaltungstechniken', 'Anpassung an Änderungen in technologischen Entwicklungsplänen', 'Buchhaltungstechniken', 'ein Skript anpassen', 'Buchhaltung', 'Systemkomponente erwerben', 'Absorb (Lernmanagementsysteme)', 'Absorb (Lernmanagementsysteme)', 'Buchhaltungstechniken', 'ein Skript anpassen'], ['Buchhaltung', 'ein Skript anpassen', 'Anpassung an Änderungen in technologischen Entwicklungsplänen', 'Anpassung an Änderungen in technologischen Entwicklungsplänen', 'Anpassung an Änderungen in technologischen Entwicklungsplänen', 'Akupressur', 'Buchhaltungstechniken', 'Anpassung an Änderungen in technologischen Entwicklungsplänen', 'Anpassung an Änderungen in technologischen Entwicklungsplänen', 'Anpassung an Änderungen in technologischen Entwicklungsplänen', 'Systemkomponente erwerben', 'Systemkomponente erwerben', 'Absorb (Lernmanagementsysteme)', 'Buchhaltungstechniken', 'Buchhaltungstechniken'], ['Buchhaltung', 'Anpassung an Änderungen in technologischen Entwicklungsplänen', 'ABAP', 'Buchhaltung'], ['Absorb (Lernmanagementsysteme)', 'ABAP', 'ein Skript anpassen', 'ABAP', 'Text kulturell anpassen', 'ein Skript anpassen', 'Absorb (Lernmanagementsysteme)', 'Anpassung an Änderungen in technologischen Entwicklungsplänen', 'Prozesse der Buchhaltungsabteilung', 'Buchhaltung', 'Absorb (Lernmanagementsysteme)', 'Akupressur', 'Absorb (Lernmanagementsysteme)', 'Buchhaltung', 'Systemkomponente erwerben'], ['Buchhaltung', 'Systemkomponente erwerben', 'Buchhaltung', 'Anpassung an Veränderungen im Marketing', 'ABAP', 'Anpassung an Änderungen in technologischen Entwicklungsplänen', '3D-Modellierung', 'Anpassung an Änderungen in technologischen Entwicklungsplänen', 'Anpassung an Änderungen in technologischen Entwicklungsplänen', 'Systemkomponente erwerben', 'Buchhaltungstechniken', 'ABAP', 'Anpassung an Änderungen in technologischen Entwicklungsplänen', 'ABAP', 'ABAP', 'ABAP', 'Systemkomponente erwerben', 'Buchhaltungstechniken', 'Systemkomponente erwerben', 'Anpassung an Veränderungen im Marketing', 'Buchhaltungstechniken'], ['ein Skript anpassen', 'ein Skript anpassen', 'Präzisionswaffen', 'Buchhaltung', 'Anpassung an Änderungen in technologischen Entwicklungsplänen', 'Anpassung an Änderungen in technologischen Entwicklungsplänen', 'Buchhaltungstechniken', 'ein Skript anpassen', 'ABAP', 'ein Skript anpassen', 'Absorb (Lernmanagementsysteme)'], ['Absorb (Lernmanagementsysteme)', 'Absorb (Lernmanagementsysteme)', 'ein Skript anpassen', 'Systemkomponente erwerben', 'Akupressur', 'Akupressur', 'Buchhaltung', 'Anpassung an Änderungen in technologischen Entwicklungsplänen', 'Anpassung an Änderungen in technologischen Entwicklungsplänen', 'Buchhaltungstechniken', 'Systemkomponente erwerben', 'Hörtests anpassen', 'Akupressur', 'Buchhaltung'], ['Buchhaltungstechniken', 'Buchhaltungstechniken', 'Absorb (Lernmanagementsysteme)', 'ABAP', 'Anpassung an Veränderungen im Marketing', 'Absorb (Lernmanagementsysteme)', 'Absorb (Lernmanagementsysteme)', 'Absorb (Lernmanagementsysteme)', 'Computerkomponenten hinzufügen', 'Buchhaltungstechniken', 'Anpassung an Änderungen in technologischen Entwicklungsplänen', 'Buchhaltungstechniken', 'Anpassung an Änderungen in technologischen Entwicklungsplänen', 'Systemkomponente erwerben', 'Absorb (Lernmanagementsysteme)', 'Absorb (Lernmanagementsysteme)', 'Systemkomponente erwerben'], ['ein Skript anpassen', 'ein Skript anpassen', 'Absorb (Lernmanagementsysteme)', 'Anpassung an Änderungen in technologischen Entwicklungsplänen', 'Absorb (Lernmanagementsysteme)', 'Anpassung an Änderungen in technologischen Entwicklungsplänen', 'Anpassung an Änderungen in technologischen Entwicklungsplänen', 'Akupressur', 'Systemkomponente erwerben', 'Systemkomponente erwerben', 'Buchhaltungstechniken', 'Absorb (Lernmanagementsysteme)', 'Buchhaltungstechniken', 'Systemkomponente erwerben', 'Systemkomponente erwerben', 'Buchhaltungstechniken'], ['Anpassung an Änderungen in technologischen Entwicklungsplänen', 'Anpassung an Änderungen in technologischen Entwicklungsplänen', 'Anpassung an Änderungen in technologischen Entwicklungsplänen', 'Buchhaltungstechniken', 'Anpassung an Änderungen in technologischen Entwicklungsplänen', 'ABBYY FineReader', 'Anpassung an Änderungen in technologischen Entwicklungsplänen', 'Anpassung an Änderungen in technologischen Entwicklungsplänen', 'Anpassung an Änderungen in technologischen Entwicklungsplänen', 'Anpassung an Änderungen in technologischen Entwicklungsplänen', 'Anpassung an Änderungen in technologischen Entwicklungsplänen', 'Systemkomponente erwerben', 'Anpassung an Änderungen in technologischen Entwicklungsplänen', 'Anpassung an Änderungen in technologischen Entwicklungsplänen', 'Buchhaltungstechniken', 'Akupressur', 'Akupressur', 'Anpassung an Änderungen in technologischen Entwicklungsplänen', 'Absorb (Lernmanagementsysteme)'], ['Buchhaltungstechniken', 'ein Skript anpassen', 'ein Skript anpassen', 'ABAP', 'ein Skript anpassen', 'Akupressur', 'Akupressur', 'Akupressur', 'Akupressur', 'Buchhaltung', 'Absorb (Lernmanagementsysteme)', 'Absorb (Lernmanagementsysteme)', '3D-Beleuchtung', 'Farbe hinzufügen', 'ein Skript anpassen', 'ein Skript anpassen', 'ein Skript anpassen', 'Absorb (Lernmanagementsysteme)', 'Systemkomponente erwerben', 'ein Skript anpassen', 'ABAP', 'Anpassung an Änderungen in technologischen Entwicklungsplänen', 'Anpassung an Änderungen in technologischen Entwicklungsplänen', 'Anpassung an Änderungen in technologischen Entwicklungsplänen', 'Systemkomponente erwerben', 'Absorb (Lernmanagementsysteme)', 'Akupressur', 'Buchhaltung'], ['Systemkomponente erwerben', 'Systemkomponente erwerben', 'Buchhaltung', 'Systemkomponente erwerben', 'ABAP', 'Systemkomponente erwerben', 'ein Skript anpassen', 'Absorb (Lernmanagementsysteme)', 'Buchhaltung', 'Buchhaltung', 'ABAP', 'Buchhaltung', 'ABAP', 'Anpassung an Änderungen in technologischen Entwicklungsplänen', 'Systemkomponente erwerben', 'Anpassung an Änderungen in technologischen Entwicklungsplänen', 'Systemkomponente erwerben', 'Absorb (Lernmanagementsysteme)', 'Buchhaltung', 'Akupressur', 'ein Skript anpassen', 'Akupressur', 'ABAP', 'Buchhaltungstechniken', 'Akupressur', 'Buchhaltungstechniken', 'Systemkomponente erwerben', 'Systemkomponente erwerben', 'Anpassung an Änderungen in technologischen Entwicklungsplänen', 'Systemkomponente erwerben', 'Systemkomponente erwerben', 'Systemkomponente erwerben'], ['Systemkomponente erwerben', 'Systemkomponente erwerben', 'Anpassung an Änderungen in technologischen Entwicklungsplänen', 'Anpassung an Änderungen in technologischen Entwicklungsplänen', 'Anpassung an Änderungen in technologischen Entwicklungsplänen', 'Absorb (Lernmanagementsysteme)', 'Anpassung an Änderungen in technologischen Entwicklungsplänen', 'ABAP', 'Absorb (Lernmanagementsysteme)', 'Anpassung an Veränderungen in der Forstwirtschaft', 'Buchhaltungstechniken', 'Anpassung an Änderungen in technologischen Entwicklungsplänen', 'Anpassung an Änderungen in technologischen Entwicklungsplänen', 'Absorb (Lernmanagementsysteme)', 'Buchhaltungstechniken', 'Buchhaltungstechniken', 'Systemkomponente erwerben', 'Buchhaltungstechniken', 'Systemkomponente erwerben', 'Anpassung an Änderungen in technologischen Entwicklungsplänen', 'Systemkomponente erwerben', 'Buchhaltungstechniken', 'Buchhaltungstechniken'], ['Absorb (Lernmanagementsysteme)', 'Absorb (Lernmanagementsysteme)', 'Akupressur', 'Sätze anpassen', 'Buchhaltungstechniken', 'Farbe hinzufügen', 'ein Skript anpassen', 'ein Skript anpassen', 'Systemkomponente erwerben'], ['Systemkomponente erwerben', 'Systemkomponente erwerben', 'Buchhaltungstechniken', 'ein Skript anpassen', 'Akupressur', 'ein Skript anpassen', 'Anpassung an Änderungen in technologischen Entwicklungsplänen', 'Anpassung an Änderungen in technologischen Entwicklungsplänen', 'Buchhaltungstechniken', 'Systemkomponente erwerben', 'Systemkomponente erwerben', 'Systemkomponente erwerben', 'Systemkomponente erwerben', 'Systemkomponente erwerben', 'Buchhaltung'], ['Systemkomponente erwerben', 'Systemkomponente erwerben', 'Akupressur', 'ein Skript anpassen', 'Absorb (Lernmanagementsysteme)', 'Anpassung an Änderungen in technologischen Entwicklungsplänen', 'Systemkomponente erwerben', 'Buchhaltungstechniken', 'Systemkomponente erwerben', 'Systemkomponente erwerben', 'Buchhaltung'], ['ein Skript anpassen', 'ein Skript anpassen', 'Buchhaltung', 'Buchhaltungstechniken', 'Buchhaltung', 'Buchhaltungstechniken']]\n"
     ]
    }
   ],
   "source": [
    "import pickle\n",
    "with open('.\\ExtractedSkillSpans.pkl', 'wb') as file:\n",
    "    pickle.dump(DOCS_SPANS, file)\n",
    "with open('.\\ExtractedSkillSpans.pkl', 'rb') as file:\n",
    "    loaded_list = pickle.load(file)\n",
    "\n",
    "print(len(loaded_list))  # This should output: [1, 2, 3, 4, 5]"
   ]
  },
  {
   "cell_type": "code",
   "execution_count": 1,
   "metadata": {},
   "outputs": [
    {
     "ename": "NameError",
     "evalue": "name 'loaded_list' is not defined",
     "output_type": "error",
     "traceback": [
      "\u001b[1;31m---------------------------------------------------------------------------\u001b[0m",
      "\u001b[1;31mNameError\u001b[0m                                 Traceback (most recent call last)",
      "Cell \u001b[1;32mIn[1], line 1\u001b[0m\n\u001b[1;32m----> 1\u001b[0m \u001b[38;5;28mprint\u001b[39m(\u001b[38;5;28mlen\u001b[39m(\u001b[43mloaded_list\u001b[49m))\n",
      "\u001b[1;31mNameError\u001b[0m: name 'loaded_list' is not defined"
     ]
    }
   ],
   "source": [
    "print(len(loaded_list))"
   ]
  },
  {
   "cell_type": "markdown",
   "metadata": {},
   "source": [
    "#### Select subset of ESCO"
   ]
  },
  {
   "cell_type": "code",
   "execution_count": 22,
   "metadata": {},
   "outputs": [
    {
     "data": {
      "text/plain": [
       "13891"
      ]
     },
     "execution_count": 22,
     "metadata": {},
     "output_type": "execute_result"
    }
   ],
   "source": [
    "from itertools import chain\n",
    "\n",
    "SELECTED_ESCO_SPANS = set(chain.from_iterable(DOCS_SPANS))\n",
    "\n",
    "with open(\"./esco_skills_de.txt\", \"rt\") as f:\n",
    "    SELECTED_ESCO_SPANS = SELECTED_ESCO_SPANS | set(l.strip() for l in f.readlines())\n",
    "    \n",
    "SELECTED_ESCO_SPANS = list(SELECTED_ESCO_SPANS)\n",
    "len(SELECTED_ESCO_SPANS)"
   ]
  },
  {
   "cell_type": "markdown",
   "metadata": {},
   "source": [
    "### Step 2"
   ]
  },
  {
   "cell_type": "code",
   "execution_count": 23,
   "metadata": {},
   "outputs": [],
   "source": [
    "from collections import defaultdict\n",
    "\n",
    "SPANS_DOCS_COUNT = defaultdict(int)\n",
    "for doc in DOCS_SPANS:\n",
    "    for span in set(doc):\n",
    "        SPANS_DOCS_COUNT[span] += 1"
   ]
  },
  {
   "cell_type": "code",
   "execution_count": 24,
   "metadata": {},
   "outputs": [
    {
     "name": "stderr",
     "output_type": "stream",
     "text": [
      "C:\\Users\\karam\\AppData\\Local\\Temp\\ipykernel_22152\\519719356.py:6: DeprecationWarning: Conversion of an array with ndim > 0 to a scalar is deprecated, and will error in future. Ensure you extract a single element from your array before performing this operation. (Deprecated NumPy 1.25.)\n",
      "  t1 = SELECTED_ESCO_SPANS[int(t1_idx)]\n",
      "C:\\Users\\karam\\AppData\\Local\\Temp\\ipykernel_22152\\519719356.py:7: DeprecationWarning: Conversion of an array with ndim > 0 to a scalar is deprecated, and will error in future. Ensure you extract a single element from your array before performing this operation. (Deprecated NumPy 1.25.)\n",
      "  t2 = SELECTED_ESCO_SPANS[int(t2_idx)]\n",
      "C:\\Users\\karam\\AppData\\Local\\Temp\\ipykernel_22152\\519719356.py:7: DeprecationWarning: Conversion of an array with ndim > 0 to a scalar is deprecated, and will error in future. Ensure you extract a single element from your array before performing this operation. (Deprecated NumPy 1.25.)\n",
      "  t2 = SELECTED_ESCO_SPANS[int(t2_idx)]\n",
      "C:\\Users\\karam\\AppData\\Local\\Temp\\ipykernel_22152\\519719356.py:6: DeprecationWarning: Conversion of an array with ndim > 0 to a scalar is deprecated, and will error in future. Ensure you extract a single element from your array before performing this operation. (Deprecated NumPy 1.25.)\n",
      "  t1 = SELECTED_ESCO_SPANS[int(t1_idx)]\n",
      "C:\\Users\\karam\\AppData\\Local\\Temp\\ipykernel_22152\\519719356.py:6: DeprecationWarning: Conversion of an array with ndim > 0 to a scalar is deprecated, and will error in future. Ensure you extract a single element from your array before performing this operation. (Deprecated NumPy 1.25.)\n",
      "  t1 = SELECTED_ESCO_SPANS[int(t1_idx)]\n",
      "C:\\Users\\karam\\AppData\\Local\\Temp\\ipykernel_22152\\519719356.py:7: DeprecationWarning: Conversion of an array with ndim > 0 to a scalar is deprecated, and will error in future. Ensure you extract a single element from your array before performing this operation. (Deprecated NumPy 1.25.)\n",
      "  t2 = SELECTED_ESCO_SPANS[int(t2_idx)]\n",
      "C:\\Users\\karam\\AppData\\Local\\Temp\\ipykernel_22152\\519719356.py:6: DeprecationWarning: Conversion of an array with ndim > 0 to a scalar is deprecated, and will error in future. Ensure you extract a single element from your array before performing this operation. (Deprecated NumPy 1.25.)\n",
      "  t1 = SELECTED_ESCO_SPANS[int(t1_idx)]\n",
      "C:\\Users\\karam\\AppData\\Local\\Temp\\ipykernel_22152\\519719356.py:7: DeprecationWarning: Conversion of an array with ndim > 0 to a scalar is deprecated, and will error in future. Ensure you extract a single element from your array before performing this operation. (Deprecated NumPy 1.25.)\n",
      "  t2 = SELECTED_ESCO_SPANS[int(t2_idx)]\n",
      "C:\\Users\\karam\\AppData\\Local\\Temp\\ipykernel_22152\\519719356.py:6: DeprecationWarning: Conversion of an array with ndim > 0 to a scalar is deprecated, and will error in future. Ensure you extract a single element from your array before performing this operation. (Deprecated NumPy 1.25.)\n",
      "  t1 = SELECTED_ESCO_SPANS[int(t1_idx)]\n",
      "C:\\Users\\karam\\AppData\\Local\\Temp\\ipykernel_22152\\519719356.py:7: DeprecationWarning: Conversion of an array with ndim > 0 to a scalar is deprecated, and will error in future. Ensure you extract a single element from your array before performing this operation. (Deprecated NumPy 1.25.)\n",
      "  t2 = SELECTED_ESCO_SPANS[int(t2_idx)]\n",
      "C:\\Users\\karam\\AppData\\Local\\Temp\\ipykernel_22152\\519719356.py:6: DeprecationWarning: Conversion of an array with ndim > 0 to a scalar is deprecated, and will error in future. Ensure you extract a single element from your array before performing this operation. (Deprecated NumPy 1.25.)\n",
      "  t1 = SELECTED_ESCO_SPANS[int(t1_idx)]\n",
      "C:\\Users\\karam\\AppData\\Local\\Temp\\ipykernel_22152\\519719356.py:7: DeprecationWarning: Conversion of an array with ndim > 0 to a scalar is deprecated, and will error in future. Ensure you extract a single element from your array before performing this operation. (Deprecated NumPy 1.25.)\n",
      "  t2 = SELECTED_ESCO_SPANS[int(t2_idx)]\n",
      "C:\\Users\\karam\\AppData\\Local\\Temp\\ipykernel_22152\\519719356.py:6: DeprecationWarning: Conversion of an array with ndim > 0 to a scalar is deprecated, and will error in future. Ensure you extract a single element from your array before performing this operation. (Deprecated NumPy 1.25.)\n",
      "  t1 = SELECTED_ESCO_SPANS[int(t1_idx)]\n",
      "C:\\Users\\karam\\AppData\\Local\\Temp\\ipykernel_22152\\519719356.py:7: DeprecationWarning: Conversion of an array with ndim > 0 to a scalar is deprecated, and will error in future. Ensure you extract a single element from your array before performing this operation. (Deprecated NumPy 1.25.)\n",
      "  t2 = SELECTED_ESCO_SPANS[int(t2_idx)]\n",
      "C:\\Users\\karam\\AppData\\Local\\Temp\\ipykernel_22152\\519719356.py:6: DeprecationWarning: Conversion of an array with ndim > 0 to a scalar is deprecated, and will error in future. Ensure you extract a single element from your array before performing this operation. (Deprecated NumPy 1.25.)\n",
      "  t1 = SELECTED_ESCO_SPANS[int(t1_idx)]\n",
      "C:\\Users\\karam\\AppData\\Local\\Temp\\ipykernel_22152\\519719356.py:7: DeprecationWarning: Conversion of an array with ndim > 0 to a scalar is deprecated, and will error in future. Ensure you extract a single element from your array before performing this operation. (Deprecated NumPy 1.25.)\n",
      "  t2 = SELECTED_ESCO_SPANS[int(t2_idx)]\n",
      "C:\\Users\\karam\\AppData\\Local\\Temp\\ipykernel_22152\\519719356.py:6: DeprecationWarning: Conversion of an array with ndim > 0 to a scalar is deprecated, and will error in future. Ensure you extract a single element from your array before performing this operation. (Deprecated NumPy 1.25.)\n",
      "  t1 = SELECTED_ESCO_SPANS[int(t1_idx)]\n",
      "C:\\Users\\karam\\AppData\\Local\\Temp\\ipykernel_22152\\519719356.py:7: DeprecationWarning: Conversion of an array with ndim > 0 to a scalar is deprecated, and will error in future. Ensure you extract a single element from your array before performing this operation. (Deprecated NumPy 1.25.)\n",
      "  t2 = SELECTED_ESCO_SPANS[int(t2_idx)]\n",
      "C:\\Users\\karam\\AppData\\Local\\Temp\\ipykernel_22152\\519719356.py:6: DeprecationWarning: Conversion of an array with ndim > 0 to a scalar is deprecated, and will error in future. Ensure you extract a single element from your array before performing this operation. (Deprecated NumPy 1.25.)\n",
      "  t1 = SELECTED_ESCO_SPANS[int(t1_idx)]\n",
      "C:\\Users\\karam\\AppData\\Local\\Temp\\ipykernel_22152\\519719356.py:7: DeprecationWarning: Conversion of an array with ndim > 0 to a scalar is deprecated, and will error in future. Ensure you extract a single element from your array before performing this operation. (Deprecated NumPy 1.25.)\n",
      "  t2 = SELECTED_ESCO_SPANS[int(t2_idx)]\n",
      "C:\\Users\\karam\\AppData\\Local\\Temp\\ipykernel_22152\\519719356.py:6: DeprecationWarning: Conversion of an array with ndim > 0 to a scalar is deprecated, and will error in future. Ensure you extract a single element from your array before performing this operation. (Deprecated NumPy 1.25.)\n",
      "  t1 = SELECTED_ESCO_SPANS[int(t1_idx)]\n",
      "C:\\Users\\karam\\AppData\\Local\\Temp\\ipykernel_22152\\519719356.py:7: DeprecationWarning: Conversion of an array with ndim > 0 to a scalar is deprecated, and will error in future. Ensure you extract a single element from your array before performing this operation. (Deprecated NumPy 1.25.)\n",
      "  t2 = SELECTED_ESCO_SPANS[int(t2_idx)]\n",
      "C:\\Users\\karam\\AppData\\Local\\Temp\\ipykernel_22152\\519719356.py:7: DeprecationWarning: Conversion of an array with ndim > 0 to a scalar is deprecated, and will error in future. Ensure you extract a single element from your array before performing this operation. (Deprecated NumPy 1.25.)\n",
      "  t2 = SELECTED_ESCO_SPANS[int(t2_idx)]\n",
      "C:\\Users\\karam\\AppData\\Local\\Temp\\ipykernel_22152\\519719356.py:6: DeprecationWarning: Conversion of an array with ndim > 0 to a scalar is deprecated, and will error in future. Ensure you extract a single element from your array before performing this operation. (Deprecated NumPy 1.25.)\n",
      "  t1 = SELECTED_ESCO_SPANS[int(t1_idx)]\n",
      "C:\\Users\\karam\\AppData\\Local\\Temp\\ipykernel_22152\\519719356.py:7: DeprecationWarning: Conversion of an array with ndim > 0 to a scalar is deprecated, and will error in future. Ensure you extract a single element from your array before performing this operation. (Deprecated NumPy 1.25.)\n",
      "  t2 = SELECTED_ESCO_SPANS[int(t2_idx)]\n",
      "C:\\Users\\karam\\AppData\\Local\\Temp\\ipykernel_22152\\519719356.py:6: DeprecationWarning: Conversion of an array with ndim > 0 to a scalar is deprecated, and will error in future. Ensure you extract a single element from your array before performing this operation. (Deprecated NumPy 1.25.)\n",
      "  t1 = SELECTED_ESCO_SPANS[int(t1_idx)]\n",
      "C:\\Users\\karam\\AppData\\Local\\Temp\\ipykernel_22152\\519719356.py:7: DeprecationWarning: Conversion of an array with ndim > 0 to a scalar is deprecated, and will error in future. Ensure you extract a single element from your array before performing this operation. (Deprecated NumPy 1.25.)\n",
      "  t2 = SELECTED_ESCO_SPANS[int(t2_idx)]\n",
      "C:\\Users\\karam\\AppData\\Local\\Temp\\ipykernel_22152\\519719356.py:6: DeprecationWarning: Conversion of an array with ndim > 0 to a scalar is deprecated, and will error in future. Ensure you extract a single element from your array before performing this operation. (Deprecated NumPy 1.25.)\n",
      "  t1 = SELECTED_ESCO_SPANS[int(t1_idx)]\n",
      "C:\\Users\\karam\\AppData\\Local\\Temp\\ipykernel_22152\\519719356.py:6: DeprecationWarning: Conversion of an array with ndim > 0 to a scalar is deprecated, and will error in future. Ensure you extract a single element from your array before performing this operation. (Deprecated NumPy 1.25.)\n",
      "  t1 = SELECTED_ESCO_SPANS[int(t1_idx)]\n",
      "C:\\Users\\karam\\AppData\\Local\\Temp\\ipykernel_22152\\519719356.py:7: DeprecationWarning: Conversion of an array with ndim > 0 to a scalar is deprecated, and will error in future. Ensure you extract a single element from your array before performing this operation. (Deprecated NumPy 1.25.)\n",
      "  t2 = SELECTED_ESCO_SPANS[int(t2_idx)]\n",
      "C:\\Users\\karam\\AppData\\Local\\Temp\\ipykernel_22152\\519719356.py:6: DeprecationWarning: Conversion of an array with ndim > 0 to a scalar is deprecated, and will error in future. Ensure you extract a single element from your array before performing this operation. (Deprecated NumPy 1.25.)\n",
      "  t1 = SELECTED_ESCO_SPANS[int(t1_idx)]\n",
      "C:\\Users\\karam\\AppData\\Local\\Temp\\ipykernel_22152\\519719356.py:7: DeprecationWarning: Conversion of an array with ndim > 0 to a scalar is deprecated, and will error in future. Ensure you extract a single element from your array before performing this operation. (Deprecated NumPy 1.25.)\n",
      "  t2 = SELECTED_ESCO_SPANS[int(t2_idx)]\n",
      "\n",
      "KeyboardInterrupt\n",
      "\n"
     ]
    }
   ],
   "source": [
    "from sklearn.metrics import pairwise_distances\n",
    "\n",
    "EPS = np.finfo(np.float64).eps\n",
    "\n",
    "def calc_cbm_score(t1_idx, t2_idx) -> float:\n",
    "    t1 = SELECTED_ESCO_SPANS[int(t1_idx)]\n",
    "    t2 = SELECTED_ESCO_SPANS[int(t2_idx)]\n",
    "\n",
    "    t1_count = SPANS_DOCS_COUNT[t1]\n",
    "    t2_count = SPANS_DOCS_COUNT[t2]\n",
    "    t1t2_count = 0\n",
    "    for doc in DOCS_SPANS:\n",
    "        if t1 in doc and t2 in doc:\n",
    "            t1t2_count += 1\n",
    "    \n",
    "    if t1_count == 0 or t2_count == 0:\n",
    "        return 0.\n",
    "    elif t1_count == t2_count and t1_count == t1t2_count:\n",
    "        return 1.\n",
    "    else:\n",
    "        # print(t1_count, t2_count, t1t2_count, np.log10(t1_count + 1), np.log10(t2_count + 1), np.power(np.log10(t1t2_count) + EPS, 2))\n",
    "        # np.power(np.log10(t1t2_count), 2)\n",
    "        return np.power(np.log10(t1t2_count + 1), 2)/(np.log10(t1_count + 1.) * np.log10(t2_count + 1.))\n",
    "\n",
    "CBM_SCORES = pairwise_distances(np.arange(len(SELECTED_ESCO_SPANS)).reshape((-1, 1)), metric=calc_cbm_score, n_jobs=-1)\n",
    "CBM_SCORES\n",
    "# calc_cbm_score(0, 1)"
   ]
  },
  {
   "cell_type": "code",
   "execution_count": 26,
   "metadata": {},
   "outputs": [
    {
     "name": "stderr",
     "output_type": "stream",
     "text": [
      "C:\\Users\\karam\\AppData\\Local\\Temp\\ipykernel_22152\\519719356.py:7: DeprecationWarning: Conversion of an array with ndim > 0 to a scalar is deprecated, and will error in future. Ensure you extract a single element from your array before performing this operation. (Deprecated NumPy 1.25.)\n",
      "  t2 = SELECTED_ESCO_SPANS[int(t2_idx)]\n",
      "C:\\Users\\karam\\AppData\\Local\\Temp\\ipykernel_22152\\519719356.py:6: DeprecationWarning: Conversion of an array with ndim > 0 to a scalar is deprecated, and will error in future. Ensure you extract a single element from your array before performing this operation. (Deprecated NumPy 1.25.)\n",
      "  t1 = SELECTED_ESCO_SPANS[int(t1_idx)]\n",
      "0it [00:00, ?it/s]\n"
     ]
    }
   ],
   "source": [
    "from sklearn.metrics import pairwise_distances\n",
    "import numpy as np\n",
    "from tqdm import tqdm\n",
    "import os\n",
    "\n",
    "EPS = np.finfo(np.float64).eps\n",
    "\n",
    "def calc_cbm_score(t1_idx, t2_idx) -> float:\n",
    "    t1 = SELECTED_ESCO_SPANS[int(t1_idx)]\n",
    "    t2 = SELECTED_ESCO_SPANS[int(t2_idx)]\n",
    "\n",
    "    t1_count = SPANS_DOCS_COUNT[t1]\n",
    "    t2_count = SPANS_DOCS_COUNT[t2]\n",
    "    t1t2_count = 0\n",
    "    for doc in DOCS_SPANS:\n",
    "        if t1 in doc and t2 in doc:\n",
    "            t1t2_count += 1\n",
    "    \n",
    "    if t1_count == 0 or t2_count == 0:\n",
    "        return 0.\n",
    "    elif t1_count == t2_count and t1_count == t1t2_count:\n",
    "        return 1.\n",
    "    else:\n",
    "        return np.power(np.log10(t1t2_count + 1), 2) / (np.log10(t1_count + 1.) * np.log10(t2_count + 1.))\n",
    "\n",
    "# Define chunk size\n",
    "CHUNK_SIZE = 100\n",
    "N = len(SELECTED_ESCO_SPANS)\n",
    "NUM_CHUNKS = (N + CHUNK_SIZE - 1) // CHUNK_SIZE\n",
    "\n",
    "# Counter to keep track of progress\n",
    "counter = 0\n",
    "\n",
    "# Check if counter exists and load it\n",
    "if os.path.exists('counter.npy'):\n",
    "    counter = np.load('counter.npy')\n",
    "\n",
    "# Compute in chunks\n",
    "for idx in tqdm(range(counter, NUM_CHUNKS)):\n",
    "    start_col = idx * CHUNK_SIZE\n",
    "    end_col = min(start_col + CHUNK_SIZE, N)\n",
    "    \n",
    "    CBM_SCORES_chunk = pairwise_distances(\n",
    "        np.arange(N).reshape((-1, 1)),\n",
    "        np.arange(start_col, end_col).reshape((-1, 1)),\n",
    "        metric=calc_cbm_score,\n",
    "        n_jobs=32\n",
    "    )\n",
    "    \n",
    "    # Save the chunk\n",
    "    np.save(f'CBM_SCORES_chunk_{idx}.npy', CBM_SCORES_chunk)\n",
    "    \n",
    "    # Update the counter\n",
    "    counter = idx + 1\n",
    "    np.save('counter.npy', counter)\n",
    "\n",
    "# Concatenate all the chunks to form the full matrix\n",
    "CBM_SCORES = np.concatenate([np.load(f'CBM_SCORES_chunk_{i}.npy') for i in range(NUM_CHUNKS)], axis=1)\n"
   ]
  },
  {
   "cell_type": "code",
   "execution_count": 243,
   "metadata": {},
   "outputs": [],
   "source": [
    "from sklearn.metrics.pairwise import cosine_similarity\n",
    "\n",
    "COS_SIMS = cosine_similarity(list(get_embedding(span) for span in SELECTED_ESCO_SPANS))"
   ]
  },
  {
   "cell_type": "code",
   "execution_count": null,
   "metadata": {},
   "outputs": [],
   "source": [
    "from sklearn.metrics.pairwise import cosine_similarity\n",
    "import numpy as np\n",
    "from tqdm import tqdm\n",
    "import os\n",
    "\n",
    "# Function to get the embedding of a span\n",
    "# You should already have this function defined in your code\n",
    "# def get_embedding(span):\n",
    "#     ...\n",
    "\n",
    "CHUNK_SIZE = 100\n",
    "N = len(SELECTED_ESCO_SPANS)\n",
    "NUM_CHUNKS = (N + CHUNK_SIZE - 1) // CHUNK_SIZE\n",
    "\n",
    "# Counter to keep track of progress\n",
    "counter = 0\n",
    "\n",
    "# Check if counter exists and load it\n",
    "if os.path.exists('counter.npy'):\n",
    "    counter = np.load('counter.npy')\n",
    "\n",
    "# Precompute all embeddings\n",
    "all_embeddings = [get_embedding(span) for span in SELECTED_ESCO_SPANS]\n",
    "\n",
    "# Compute in chunks\n",
    "for idx in tqdm(range(counter, NUM_CHUNKS)):\n",
    "    start_col = idx * CHUNK_SIZE\n",
    "    end_col = min(start_col + CHUNK_SIZE, N)\n",
    "    \n",
    "    COS_SIMS_chunk = cosine_similarity(all_embeddings, all_embeddings[start_col:end_col])\n",
    "    \n",
    "    # Save the chunk\n",
    "    np.save(f'COS_SIMS_chunk_{idx}.npy', COS_SIMS_chunk)\n",
    "    \n",
    "    # Update the counter\n",
    "    counter = idx + 1\n",
    "    np.save('counter.npy', counter)\n",
    "\n",
    "# Concatenate all the chunks to form the full matrix\n",
    "COS_SIMS = np.concatenate([np.load(f'COS_SIMS_chunk_{i}.npy') for i in range(NUM_CHUNKS)], axis=1)\n"
   ]
  },
  {
   "cell_type": "code",
   "execution_count": 31,
   "metadata": {},
   "outputs": [
    {
     "ename": "ValueError",
     "evalue": "operands could not be broadcast together with shapes (13999,13999) (13891,13891) ",
     "output_type": "error",
     "traceback": [
      "\u001b[1;31m---------------------------------------------------------------------------\u001b[0m",
      "\u001b[1;31mValueError\u001b[0m                                Traceback (most recent call last)",
      "Cell \u001b[1;32mIn[31], line 3\u001b[0m\n\u001b[0;32m      1\u001b[0m \u001b[38;5;66;03m# CBM_SCORES = np.load('.\\CBM_Score.npy')\u001b[39;00m\n\u001b[0;32m      2\u001b[0m \u001b[38;5;66;03m# COS_SIMS = np.load('.\\CosineSimilarityMatrix.npy')\u001b[39;00m\n\u001b[1;32m----> 3\u001b[0m \u001b[43mCBM_SCORES\u001b[49m\u001b[38;5;241;43m+\u001b[39;49m\u001b[43mCOS_SIMS\u001b[49m\n",
      "\u001b[1;31mValueError\u001b[0m: operands could not be broadcast together with shapes (13999,13999) (13891,13891) "
     ]
    }
   ],
   "source": [
    "CBM_SCORES = np.load('.\\CBM_Score.npy')\n",
    "COS_SIMS = np.load('.\\CosineSimilarityMatrix.npy')\n"
   ]
  },
  {
   "cell_type": "code",
   "execution_count": 34,
   "metadata": {},
   "outputs": [
    {
     "name": "stdout",
     "output_type": "stream",
     "text": [
      "CBM (13999, 13999)\n",
      "Cos_sim (13891, 13891)\n"
     ]
    }
   ],
   "source": [
    "print('CBM',CBM_SCORES.shape)\n",
    "print('Cos_sim',COS_SIMS.shape)\n",
    "\n",
    "a = 0.4\n",
    "# COMPARE_SCORE = a*CBM_SCORES + (1-a)COS_SIMS\n",
    "# CBM_SCORES+COS_SIMS"
   ]
  },
  {
   "cell_type": "code",
   "execution_count": null,
   "metadata": {},
   "outputs": [],
   "source": [
    "import pickle, gzip\n",
    "\n",
    "with gzip.open(\"searchModel.pickle.gz\", \"wb\", compresslevel=5) as zf:\n",
    "    pickle.dump({\n",
    "        \"scores\": COMPARE_SCORE,\n",
    "        \"spans\": SELECTED_ESCO_SPANS\n",
    "    }, zf)"
   ]
  },
  {
   "cell_type": "markdown",
   "metadata": {},
   "source": [
    "### Step 4"
   ]
  },
  {
   "cell_type": "code",
   "execution_count": 132,
   "metadata": {},
   "outputs": [],
   "source": [
    "input_text = \"Monitoring\""
   ]
  },
  {
   "cell_type": "code",
   "execution_count": 244,
   "metadata": {},
   "outputs": [
    {
     "data": {
      "text/plain": [
       "('colour grading',\n",
       " [(32, 0.5),\n",
       "  (11, 0.4),\n",
       "  (33, 0.3783783783783784),\n",
       "  (8, 0.36363636363636365),\n",
       "  (5, 0.33333333333333337)])"
      ]
     },
     "execution_count": 244,
     "metadata": {},
     "output_type": "execute_result"
    }
   ],
   "source": [
    "import Levenshtein\n",
    "\n",
    "MIN_LEVEN_SIM_SCORE = .1\n",
    "\n",
    "if input_text in SELECTED_ESCO_SPANS:\n",
    "    # Exact match:\n",
    "    pass\n",
    "else:\n",
    "    most_similar_esco_spans = [\n",
    "        (idx, Levenshtein.ratio(input_text, span, processor=lambda t: t.lower(), score_cutoff=MIN_LEVEN_SIM_SCORE))\n",
    "        for idx, span in enumerate(SELECTED_ESCO_SPANS)\n",
    "    ]\n",
    "    most_similar_esco_spans = filter(lambda p: p[1] > 0.0, most_similar_esco_spans)\n",
    "    most_similar_esco_spans = list(sorted(most_similar_esco_spans, key=itemgetter(1), reverse=True))[:5]\n",
    "\n",
    "\n",
    "selected_span_near_to_input = SELECTED_ESCO_SPANS[most_similar_esco_spans[0][0]]\n",
    "selected_span_near_to_input, most_similar_esco_spans"
   ]
  },
  {
   "cell_type": "code",
   "execution_count": 261,
   "metadata": {},
   "outputs": [
    {
     "name": "stdout",
     "output_type": "stream",
     "text": [
      "colour grading  ==>  add colour\n",
      "colour ranges of roasting  ==>  colours of roasted malt\n",
      "collect tourist information  ==>  combination of flavours\n",
      "colour glass  ==>  add colour\n",
      "collect visitor fees  ==>  collect rental fees\n"
     ]
    }
   ],
   "source": [
    "COMPARE_SCORE = CBM_SCORES + COS_SIMS\n",
    "\n",
    "for idx, _ in most_similar_esco_spans:\n",
    "    sims = COMPARE_SCORE[idx]\n",
    "    most_similar = np.argsort(sims)[-2]\n",
    "    print(SELECTED_ESCO_SPANS[idx], \" ==> \", SELECTED_ESCO_SPANS[most_similar])\n",
    "    "
   ]
  },
  {
   "cell_type": "markdown",
   "metadata": {},
   "source": []
  },
  {
   "cell_type": "code",
   "execution_count": null,
   "metadata": {},
   "outputs": [],
   "source": []
  }
 ],
 "metadata": {
  "kernelspec": {
   "display_name": "Python 3 (ipykernel)",
   "language": "python",
   "name": "python3"
  },
  "language_info": {
   "codemirror_mode": {
    "name": "ipython",
    "version": 3
   },
   "file_extension": ".py",
   "mimetype": "text/x-python",
   "name": "python",
   "nbconvert_exporter": "python",
   "pygments_lexer": "ipython3",
   "version": "3.11.5"
  }
 },
 "nbformat": 4,
 "nbformat_minor": 4
}
